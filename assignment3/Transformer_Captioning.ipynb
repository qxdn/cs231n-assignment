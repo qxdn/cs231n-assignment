{
 "cells": [
  {
   "cell_type": "code",
   "execution_count": null,
   "source": [
    "# This mounts your Google Drive to the Colab VM.\r\n",
    "from google.colab import drive\r\n",
    "drive.mount('/content/drive')\r\n",
    "\r\n",
    "# TODO: Enter the foldername in your Drive where you have saved the unzipped\r\n",
    "# assignment folder, e.g. 'cs231n/assignments/assignment3/'\r\n",
    "FOLDERNAME = None\r\n",
    "assert FOLDERNAME is not None, \"[!] Enter the foldername.\"\r\n",
    "\r\n",
    "# Now that we've mounted your Drive, this ensures that\r\n",
    "# the Python interpreter of the Colab VM can load\r\n",
    "# python files from within it.\r\n",
    "import sys\r\n",
    "sys.path.append('/content/drive/My Drive/{}'.format(FOLDERNAME))\r\n",
    "\r\n",
    "# This downloads the COCO dataset to your Drive\r\n",
    "# if it doesn't already exist.\r\n",
    "%cd /content/drive/My\\ Drive/$FOLDERNAME/cs231n/datasets/\r\n",
    "!bash get_datasets.sh\r\n",
    "%cd /content/drive/My\\ Drive/$FOLDERNAME"
   ],
   "outputs": [],
   "metadata": {}
  },
  {
   "cell_type": "markdown",
   "source": [
    "# Image Captioning with Transformers\n",
    "You have now implemented a vanilla RNN and for the task of image captioning. In this notebook you will implement key pieces of a transformer decoder to accomplish the same task.\n",
    "\n",
    "**NOTE:** This notebook will be primarily written in PyTorch rather than NumPy, unlike the RNN notebook. "
   ],
   "metadata": {
    "tags": [
     "pdf-title"
    ]
   }
  },
  {
   "cell_type": "code",
   "execution_count": 1,
   "source": [
    "# Setup cell.\r\n",
    "import time, os, json\r\n",
    "import numpy as np\r\n",
    "import matplotlib.pyplot as plt\r\n",
    "\r\n",
    "from cs231n.gradient_check import eval_numerical_gradient, eval_numerical_gradient_array\r\n",
    "from cs231n.transformer_layers import *\r\n",
    "from cs231n.captioning_solver_transformer import CaptioningSolverTransformer\r\n",
    "from cs231n.classifiers.transformer import CaptioningTransformer\r\n",
    "from cs231n.coco_utils import load_coco_data, sample_coco_minibatch, decode_captions\r\n",
    "from cs231n.image_utils import image_from_url\r\n",
    "\r\n",
    "%matplotlib inline\r\n",
    "plt.rcParams['figure.figsize'] = (10.0, 8.0) # Set default size of plots.\r\n",
    "plt.rcParams['image.interpolation'] = 'nearest'\r\n",
    "plt.rcParams['image.cmap'] = 'gray'\r\n",
    "\r\n",
    "%load_ext autoreload\r\n",
    "%autoreload 2\r\n",
    "\r\n",
    "def rel_error(x, y):\r\n",
    "    \"\"\" returns relative error \"\"\"\r\n",
    "    return np.max(np.abs(x - y) / (np.maximum(1e-8, np.abs(x) + np.abs(y))))"
   ],
   "outputs": [],
   "metadata": {
    "tags": [
     "pdf-ignore"
    ]
   }
  },
  {
   "cell_type": "markdown",
   "source": [
    "# COCO Dataset\n",
    "As in the previous notebooks, we will use the COCO dataset for captioning."
   ],
   "metadata": {}
  },
  {
   "cell_type": "code",
   "execution_count": 2,
   "source": [
    "# Load COCO data from disk into a dictionary.\r\n",
    "data = load_coco_data(pca_features=True)\r\n",
    "\r\n",
    "# Print out all the keys and values from the data dictionary.\r\n",
    "for k, v in data.items():\r\n",
    "    if type(v) == np.ndarray:\r\n",
    "        print(k, type(v), v.shape, v.dtype)\r\n",
    "    else:\r\n",
    "        print(k, type(v), len(v))"
   ],
   "outputs": [
    {
     "output_type": "stream",
     "name": "stdout",
     "text": [
      "base dir  D:\\LearnCode\\cs231n-assignment\\assignment3\\cs231n\\datasets/coco_captioning\n",
      "train_captions <class 'numpy.ndarray'> (400135, 17) int32\n",
      "train_image_idxs <class 'numpy.ndarray'> (400135,) int32\n",
      "val_captions <class 'numpy.ndarray'> (195954, 17) int32\n",
      "val_image_idxs <class 'numpy.ndarray'> (195954,) int32\n",
      "train_features <class 'numpy.ndarray'> (82783, 512) float32\n",
      "val_features <class 'numpy.ndarray'> (40504, 512) float32\n",
      "idx_to_word <class 'list'> 1004\n",
      "word_to_idx <class 'dict'> 1004\n",
      "train_urls <class 'numpy.ndarray'> (82783,) <U63\n",
      "val_urls <class 'numpy.ndarray'> (40504,) <U63\n"
     ]
    }
   ],
   "metadata": {}
  },
  {
   "cell_type": "markdown",
   "source": [
    "# Transformer\r\n",
    "As you have seen, RNNs are incredibly powerful but often slow to train. Further, RNNs struggle to encode long-range dependencies (though LSTMs are one way of mitigating the issue). In 2017, Vaswani et al introduced the Transformer in their paper [\"Attention Is All You Need\"](https://arxiv.org/abs/1706.03762) to a) introduce parallelism and b) allow models to learn long-range dependencies. The paper not only led to famous models like BERT and GPT in the natural language processing community, but also an explosion of interest across fields, including vision. While here we introduce the model in the context of image captioning, the idea of attention itself is much more general.\r\n",
    "\r\n"
   ],
   "metadata": {}
  },
  {
   "cell_type": "markdown",
   "source": [
    "# Transformer: Multi-Headed Attention\n",
    "\n",
    "### Dot-Product Attention\n",
    "\n",
    "Recall that attention can be viewed as an operation on a query $q\\in\\mathbb{R}^d$, a set of value vectors $\\{v_1,\\dots,v_n\\}, v_i\\in\\mathbb{R}^d$, and a set of key vectors $\\{k_1,\\dots,k_n\\}, k_i \\in \\mathbb{R}^d$, specified as"
   ],
   "metadata": {
    "id": "KqPMDm4F9m0v"
   }
  },
  {
   "cell_type": "markdown",
   "source": [
    "$\r\n",
    "\\begin{align}\r\n",
    "c = \\sum_{i=1}^{n} v_i \\alpha_i &\\alpha_i = \\frac{\\exp(k_i^\\top q)}{\\sum_{j=1}^{n} \\exp(k_j^\\top q)} \\\\\r\n",
    "\\end{align}\r\n",
    "$"
   ],
   "metadata": {}
  },
  {
   "cell_type": "markdown",
   "source": [
    "where $\\alpha_i$ are frequently called the \"attention weights\", and the output $c\\in\\mathbb{R}^d$ is a correspondingly weighted average over the value vectors.\r\n",
    "\r\n",
    "### Self-Attention\r\n",
    "In Transformers, we perform self-attention, which means that the values, keys and query are derived from the input $X \\in \\mathbb{R}^{\\ell \\times d}$, where $\\ell$ is our sequence length. Specifically, we learn parameter matrices $V,K,Q \\in \\mathbb{R}^{d\\times d}$ to map our input $X$ as follows:"
   ],
   "metadata": {}
  },
  {
   "cell_type": "markdown",
   "source": [
    "$\r\n",
    "\\begin{align}\r\n",
    "v_i = Vx_i\\ \\ i \\in \\{1,\\dots,\\ell\\}\\\\\r\n",
    "k_i = Kx_i\\ \\ i \\in \\{1,\\dots,\\ell\\}\\\\\r\n",
    "q_i = Qx_i\\ \\ i \\in \\{1,\\dots,\\ell\\}\r\n",
    "\\end{align}\r\n",
    "$"
   ],
   "metadata": {}
  },
  {
   "cell_type": "markdown",
   "source": [
    "### Multi-Headed Scaled Dot-Product Attention\n",
    "In the case of multi-headed attention, we learn a parameter matrix for each head, which gives the model more expressivity to attend to different parts of the input. Let $h$ be number of heads, and $Y_i$ be the attention output of head $i$. Thus we learn individual matrices $Q_i$, $K_i$ and $V_i$. To keep our overall computation the same as the single-headed case, we choose $Q_i \\in \\mathbb{R}^{d\\times d/h}$, $K_i \\in \\mathbb{R}^{d\\times d/h}$ and $V_i \\in \\mathbb{R}^{d\\times d/h}$. Adding in a scaling term $\\frac{1}{\\sqrt{d/h}}$ to our simple dot-product attention above, we have"
   ],
   "metadata": {}
  },
  {
   "cell_type": "markdown",
   "source": [
    "$\r\n",
    "\\begin{equation} \r\n",
    "Y_i = \\text{softmax}\\bigg(\\frac{(XQ_i)(XK_i)^\\top}{\\sqrt{d/h}}\\bigg)(XV_i)\r\n",
    "\\end{equation}\r\n",
    "$"
   ],
   "metadata": {}
  },
  {
   "cell_type": "markdown",
   "source": [
    "where $Y_i\\in\\mathbb{R}^{\\ell \\times d/h}$, where $\\ell$ is our sequence length.\n",
    "\n",
    "In our implementation, we then apply dropout here (though in practice it could be used at any step):"
   ],
   "metadata": {}
  },
  {
   "cell_type": "markdown",
   "source": [
    "$$Y_i = \\text{dropout}(Y_i)$$"
   ],
   "metadata": {}
  },
  {
   "cell_type": "markdown",
   "source": [
    "Finally, then the output of the self-attention is a linear transformation of the concatenation of the heads:"
   ],
   "metadata": {}
  },
  {
   "cell_type": "markdown",
   "source": [
    "$\r\n",
    "\\begin{equation}\r\n",
    "Y = [Y_1;\\dots;Y_h]A\r\n",
    "\\end{equation}\r\n",
    "$"
   ],
   "metadata": {}
  },
  {
   "cell_type": "markdown",
   "source": [
    "were $A \\in\\mathbb{R}^{d\\times d}$ and $[Y_1;\\dots;Y_h]\\in\\mathbb{R}^{\\ell \\times d}$.\n",
    "\n",
    "Implement multi-headed scaled dot-product attention in the `MultiHeadAttention` class in the file `cs231n/transformer_layers.py`. The code below will check your implementation. The relative error should be less than 1e-3."
   ],
   "metadata": {}
  },
  {
   "cell_type": "code",
   "execution_count": 11,
   "source": [
    "torch.manual_seed(231)\r\n",
    "\r\n",
    "# Choose dimensions such that they are all unique for easier debugging:\r\n",
    "# Specifically, the following values correspond to N=1, H=2, T=3, E//H=4, and E=8.\r\n",
    "batch_size = 1\r\n",
    "sequence_length = 3\r\n",
    "embed_dim = 8\r\n",
    "attn = MultiHeadAttention(embed_dim, num_heads=2)\r\n",
    "\r\n",
    "# Self-attention.\r\n",
    "data = torch.randn(batch_size, sequence_length, embed_dim)\r\n",
    "self_attn_output = attn(query=data, key=data, value=data)\r\n",
    "\r\n",
    "# Masked self-attention.\r\n",
    "mask = torch.randn(sequence_length, sequence_length) < 0.5\r\n",
    "masked_self_attn_output = attn(query=data, key=data, value=data, attn_mask=mask)\r\n",
    "\r\n",
    "# Attention using two inputs.\r\n",
    "other_data = torch.randn(batch_size, sequence_length, embed_dim)\r\n",
    "attn_output = attn(query=data, key=other_data, value=other_data)\r\n",
    "\r\n",
    "expected_self_attn_output = np.asarray([[\r\n",
    "[-0.2494,  0.1396,  0.4323, -0.2411, -0.1547,  0.2329, -0.1936,\r\n",
    "          -0.1444],\r\n",
    "         [-0.1997,  0.1746,  0.7377, -0.3549, -0.2657,  0.2693, -0.2541,\r\n",
    "          -0.2476],\r\n",
    "         [-0.0625,  0.1503,  0.7572, -0.3974, -0.1681,  0.2168, -0.2478,\r\n",
    "          -0.3038]]])\r\n",
    "\r\n",
    "expected_masked_self_attn_output = np.asarray([[\r\n",
    "[-0.1347,  0.1934,  0.8628, -0.4903, -0.2614,  0.2798, -0.2586,\r\n",
    "          -0.3019],\r\n",
    "         [-0.1013,  0.3111,  0.5783, -0.3248, -0.3842,  0.1482, -0.3628,\r\n",
    "          -0.1496],\r\n",
    "         [-0.2071,  0.1669,  0.7097, -0.3152, -0.3136,  0.2520, -0.2774,\r\n",
    "          -0.2208]]])\r\n",
    "\r\n",
    "expected_attn_output = np.asarray([[\r\n",
    "[-0.1980,  0.4083,  0.1968, -0.3477,  0.0321,  0.4258, -0.8972,\r\n",
    "          -0.2744],\r\n",
    "         [-0.1603,  0.4155,  0.2295, -0.3485, -0.0341,  0.3929, -0.8248,\r\n",
    "          -0.2767],\r\n",
    "         [-0.0908,  0.4113,  0.3017, -0.3539, -0.1020,  0.3784, -0.7189,\r\n",
    "          -0.2912]]])\r\n",
    "\r\n",
    "print('self_attn_output error: ', rel_error(expected_self_attn_output, self_attn_output.detach().numpy()))\r\n",
    "print('masked_self_attn_output error: ', rel_error(expected_masked_self_attn_output, masked_self_attn_output.detach().numpy()))\r\n",
    "print('attn_output error: ', rel_error(expected_attn_output, attn_output.detach().numpy()))"
   ],
   "outputs": [
    {
     "output_type": "stream",
     "name": "stdout",
     "text": [
      "self_attn_output error:  0.0003772742211599121\n",
      "masked_self_attn_output error:  0.0001526367643724865\n",
      "attn_output error:  0.00035224630317522767\n"
     ]
    }
   ],
   "metadata": {
    "tags": []
   }
  },
  {
   "cell_type": "markdown",
   "source": [
    "# Positional Encoding\n",
    "\n",
    "While transformers are able to easily attend to any part of their input, the attention mechanism has no concept of token order. However, for many tasks (especially natural language processing), relative token order is very important. To recover this, the authors add a positional encoding to the embeddings of individual word tokens.\n",
    "\n",
    "Let us define a matrix $P \\in \\mathbb{R}^{l\\times d}$, where $P_{ij} = $"
   ],
   "metadata": {
    "id": "tcDBRnqL9m0w"
   }
  },
  {
   "cell_type": "markdown",
   "source": [
    "$$\r\n",
    "\\begin{cases}\r\n",
    "\\text{sin}\\left(i \\cdot 10000^{-\\frac{j}{d}}\\right) & \\text{if j is even} \\\\\r\n",
    "\\text{cos}\\left(i \\cdot 10000^{-\\frac{(j-1)}{d}}\\right) & \\text{otherwise} \\\\\r\n",
    "\\end{cases}\r\n",
    "$$"
   ],
   "metadata": {}
  },
  {
   "cell_type": "markdown",
   "source": [
    "Rather than directly passing an input $X \\in \\mathbb{R}^{l\\times d}$ to our network, we instead pass $X + P$.\n",
    "\n",
    "Implement this layer in `PositionalEncoding` in `cs231n/transformer_layers.py`. Once you are done, run the following to perform a simple test of your implementation. You should see errors on the order of `e-3` or less."
   ],
   "metadata": {}
  },
  {
   "cell_type": "code",
   "execution_count": 19,
   "source": [
    "torch.manual_seed(231)\r\n",
    "\r\n",
    "batch_size = 1\r\n",
    "sequence_length = 2\r\n",
    "embed_dim = 6\r\n",
    "data = torch.randn(batch_size, sequence_length, embed_dim)\r\n",
    "\r\n",
    "pos_encoder = PositionalEncoding(embed_dim)\r\n",
    "output = pos_encoder(data)\r\n",
    "\r\n",
    "expected_pe_output = np.asarray([[[-1.2340,  1.1127,  1.6978, -0.0865, -0.0000,  1.2728],\r\n",
    "                                  [ 0.9028, -0.4781,  0.5535,  0.8133,  1.2644,  1.7034]]])\r\n",
    "\r\n",
    "print('pe_output error: ', rel_error(expected_pe_output, output.detach().numpy()))"
   ],
   "outputs": [
    {
     "output_type": "stream",
     "name": "stdout",
     "text": [
      "pe_output error:  0.00010421011374914356\n"
     ]
    }
   ],
   "metadata": {
    "tags": []
   }
  },
  {
   "cell_type": "markdown",
   "source": [
    "# Inline Question 1\r\n",
    "\r\n",
    "Several key design decisions were made in designing the scaled dot product attention we introduced above. Explain why the following choices were beneficial:\r\n",
    "1. Using multiple attention heads as opposed to one.\r\n",
    "2. Dividing by $\\sqrt{d/h}$ before applying the softmax function. Recall that $d$ is the feature dimension and $h$ is the number of heads.\r\n",
    "3. Adding a linear transformation to the output of the attention operation. What would happen if we were to stack attention operations directly?\r\n",
    "\r\n",
    "Only one or two sentences per choice is necessary, but be sure to be specific in addressing what would have happened without each given implementation detail, why such a situation would be suboptimal, and how the proposed implementation improves the situation.\r\n",
    "\r\n",
    "**Your Answer:** \r\n",
    "1. 使用多个head有多个注意力点\r\n",
    "2. 防止点积过大\r\n",
    "3. 让模型学会如何利用这些输出\r\n"
   ],
   "metadata": {
    "tags": [
     "pdf-inline"
    ]
   }
  },
  {
   "cell_type": "markdown",
   "source": [
    "# Overfit Transformer Captioning Model on Small Data\n",
    "Run the following to overfit the Transformer-based captioning model on the same small dataset as we used for the RNN previously."
   ],
   "metadata": {}
  },
  {
   "cell_type": "code",
   "execution_count": null,
   "source": [
    "torch.manual_seed(231)\r\n",
    "np.random.seed(231)\r\n",
    "\r\n",
    "data = load_coco_data(max_train=50)\r\n",
    "\r\n",
    "transformer = CaptioningTransformer(\r\n",
    "          word_to_idx=data['word_to_idx'],\r\n",
    "          input_dim=data['train_features'].shape[1],\r\n",
    "          wordvec_dim=256,\r\n",
    "          num_heads=2,\r\n",
    "          num_layers=2,\r\n",
    "          max_length=30\r\n",
    "        )\r\n",
    "\r\n",
    "\r\n",
    "transformer_solver = CaptioningSolverTransformer(transformer, data, idx_to_word=data['idx_to_word'],\r\n",
    "           num_epochs=100,\r\n",
    "           batch_size=25,\r\n",
    "           learning_rate=0.001,\r\n",
    "           verbose=True, print_every=10,\r\n",
    "         )\r\n",
    "\r\n",
    "transformer_solver.train()\r\n",
    "\r\n",
    "# Plot the training losses.\r\n",
    "plt.plot(transformer_solver.loss_history)\r\n",
    "plt.xlabel('Iteration')\r\n",
    "plt.ylabel('Loss')\r\n",
    "plt.title('Training loss history')\r\n",
    "plt.show()"
   ],
   "outputs": [],
   "metadata": {}
  },
  {
   "cell_type": "markdown",
   "source": [
    "Print final training loss. You should see a final loss of less than 0.03."
   ],
   "metadata": {}
  },
  {
   "cell_type": "code",
   "execution_count": null,
   "source": [
    "print('Final loss: ', transformer_solver.loss_history[-1])"
   ],
   "outputs": [],
   "metadata": {
    "id": "transformer_final_training_loss",
    "tags": []
   }
  },
  {
   "cell_type": "markdown",
   "source": [
    "# Transformer Sampling at Test Time\n",
    "The sampling code has been written for you. You can simply run the following to compare with the previous results with the RNN. As before the training results should be much better than the validation set results, given how little data we trained on."
   ],
   "metadata": {}
  },
  {
   "cell_type": "code",
   "execution_count": null,
   "source": [
    "# If you get an error, the URL just no longer exists, so don't worry!\r\n",
    "# You can re-sample as many times as you want.\r\n",
    "for split in ['train', 'val']:\r\n",
    "    minibatch = sample_coco_minibatch(data, split=split, batch_size=2)\r\n",
    "    gt_captions, features, urls = minibatch\r\n",
    "    gt_captions = decode_captions(gt_captions, data['idx_to_word'])\r\n",
    "\r\n",
    "    sample_captions = transformer.sample(features, max_length=30)\r\n",
    "    sample_captions = decode_captions(sample_captions, data['idx_to_word'])\r\n",
    "\r\n",
    "    for gt_caption, sample_caption, url in zip(gt_captions, sample_captions, urls):\r\n",
    "        img = image_from_url(url)\r\n",
    "        # Skip missing URLs.\r\n",
    "        if img is None: continue\r\n",
    "        plt.imshow(img)            \r\n",
    "        plt.title('%s\\n%s\\nGT:%s' % (split, sample_caption, gt_caption))\r\n",
    "        plt.axis('off')\r\n",
    "        plt.show()"
   ],
   "outputs": [],
   "metadata": {
    "tags": []
   }
  },
  {
   "cell_type": "code",
   "execution_count": null,
   "source": [],
   "outputs": [],
   "metadata": {}
  }
 ],
 "metadata": {
  "language_info": {
   "name": "python",
   "version": "3.8.8",
   "mimetype": "text/x-python",
   "codemirror_mode": {
    "name": "ipython",
    "version": 3
   },
   "pygments_lexer": "ipython3",
   "nbconvert_exporter": "python",
   "file_extension": ".py"
  },
  "kernelspec": {
   "name": "python3",
   "display_name": "Python 3.8.8 64-bit ('torch': conda)"
  },
  "interpreter": {
   "hash": "181fab76a666fabc978e1d716ca775756e643d43158730bdc61a13bf008c047f"
  }
 },
 "nbformat": 4,
 "nbformat_minor": 4
}