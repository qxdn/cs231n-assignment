{
 "cells": [
  {
   "cell_type": "code",
   "execution_count": null,
   "source": [
    "# This mounts your Google Drive to the Colab VM.\r\n",
    "from google.colab import drive\r\n",
    "drive.mount('/content/drive')\r\n",
    "\r\n",
    "# TODO: Enter the foldername in your Drive where you have saved the unzipped\r\n",
    "# assignment folder, e.g. 'cs231n/assignments/assignment1/'\r\n",
    "FOLDERNAME = None\r\n",
    "assert FOLDERNAME is not None, \"[!] Enter the foldername.\"\r\n",
    "\r\n",
    "# Now that we've mounted your Drive, this ensures that\r\n",
    "# the Python interpreter of the Colab VM can load\r\n",
    "# python files from within it.\r\n",
    "import sys\r\n",
    "sys.path.append('/content/drive/My Drive/{}'.format(FOLDERNAME))\r\n",
    "\r\n",
    "# This downloads the CIFAR-10 dataset to your Drive\r\n",
    "# if it doesn't already exist.\r\n",
    "%cd /content/drive/My\\ Drive/$FOLDERNAME/cs231n/datasets/\r\n",
    "!bash get_datasets.sh\r\n",
    "%cd /content/drive/My\\ Drive/$FOLDERNAME"
   ],
   "outputs": [],
   "metadata": {}
  },
  {
   "cell_type": "markdown",
   "source": [
    "# Introduction to TensorFlow\n",
    "\n",
    "You've written a lot of code in this assignment to provide a whole host of neural network functionality. Dropout, Batch Norm, and 2D convolutions are some of the workhorses of deep learning in computer vision. You've also worked hard to make your code efficient and vectorized.\n",
    "\n",
    "For the last part of this assignment, though, we're going to leave behind your beautiful codebase and instead migrate to one of two popular deep learning frameworks: in this instance, TensorFlow (or PyTorch, if you choose to work with that notebook)."
   ],
   "metadata": {
    "tags": [
     "pdf-title"
    ]
   }
  },
  {
   "cell_type": "markdown",
   "source": [
    "## Why do we use deep learning frameworks?\n",
    "\n",
    "* Our code will now run on GPUs! This will allow our models to train much faster. When using a framework like PyTorch or TensorFlow you can harness the power of the GPU for your own custom neural network architectures without having to write CUDA code directly (which is beyond the scope of this class).\n",
    "* In this class, we want you to be ready to use one of these frameworks for your project so you can experiment more efficiently than if you were writing every feature you want to use by hand. \n",
    "* We want you to stand on the shoulders of giants! TensorFlow and PyTorch are both excellent frameworks that will make your lives a lot easier, and now that you understand their guts, you are free to use them :) \n",
    "* Finally, we want you to be exposed to the sort of deep learning code you might run into in academia or industry.\n",
    "\n",
    "## What is TensorFlow?\n",
    "TensorFlow is a system for executing computational graphs over Tensor objects, with native support for performing backpropogation for its Variables. In it, we work with Tensors which are n-dimensional arrays analogous to the numpy ndarray.\n",
    "\n",
    "## How do I learn TensorFlow?\n",
    "\n",
    "TensorFlow has many excellent tutorials available, including those from [Google themselves](https://www.tensorflow.org/get_started/get_started).\n",
    "\n",
    "Otherwise, this notebook will walk you through much of what you need to do to train models in TensorFlow. See the end of the notebook for some links to helpful tutorials if you want to learn more or need further clarification on topics that aren't fully explained here.\n",
    "\n",
    "**Note:** This notebook is meant to teach you Tensorflow 2.x. Most examples on the web today are still in 1.x, so be careful not to confuse the two when looking up documentation."
   ],
   "metadata": {
    "tags": [
     "pdf-ignore"
    ]
   }
  },
  {
   "cell_type": "markdown",
   "source": [
    "# Table of Contents\n",
    "\n",
    "This notebook has 5 parts. We will walk through TensorFlow at **three different levels of abstraction**, which should help you better understand it and prepare you for working on your project.\n",
    "\n",
    "1. Part I, Preparation: load the CIFAR-10 dataset.\n",
    "2. Part II, Barebone TensorFlow: **Abstraction Level 1**, we will work directly with low-level TensorFlow graphs. \n",
    "3. Part III, Keras Model API: **Abstraction Level 2**, we will use `tf.keras.Model` to define arbitrary neural network architecture. \n",
    "4. Part IV, Keras Sequential + Functional API: **Abstraction Level 3**, we will use `tf.keras.Sequential` to define a linear feed-forward network very conveniently, and then explore the functional libraries for building unique and uncommon models that require more flexibility.\n",
    "5. Part V, CIFAR-10 open-ended challenge: please implement your own network to get as high accuracy as possible on CIFAR-10. You can experiment with any layer, optimizer, hyperparameters or other advanced features. \n",
    "\n",
    "We will discuss Keras in more detail later in the notebook.\n",
    "\n",
    "Here is a table of comparison:\n",
    "\n",
    "| API           | Flexibility | Convenience |\n",
    "|---------------|-------------|-------------|\n",
    "| Barebone      | High        | Low         |\n",
    "| `tf.keras.Model`     | High        | Medium      |\n",
    "| `tf.keras.Sequential` | Low         | High        |"
   ],
   "metadata": {
    "tags": [
     "pdf-ignore"
    ]
   }
  },
  {
   "cell_type": "markdown",
   "source": [
    "# GPU\n",
    "\n",
    "You can manually switch to a GPU device on Colab by clicking `Runtime -> Change runtime type` and selecting `GPU` under `Hardware Accelerator`. You should do this before running the following cells to import packages, since the kernel gets restarted upon switching runtimes."
   ],
   "metadata": {}
  },
  {
   "cell_type": "code",
   "execution_count": 1,
   "source": [
    "import os\r\n",
    "import tensorflow as tf\r\n",
    "import numpy as np\r\n",
    "import math\r\n",
    "import timeit\r\n",
    "import matplotlib.pyplot as plt\r\n",
    "\r\n",
    "%matplotlib inline\r\n",
    "\r\n",
    "USE_GPU = True\r\n",
    "\r\n",
    "if USE_GPU:\r\n",
    "    device = '/device:GPU:0'\r\n",
    "else:\r\n",
    "    device = '/cpu:0'\r\n",
    "\r\n",
    "# Constant to control how often we print when training models.\r\n",
    "print_every = 100\r\n",
    "print('Using device: ', device)"
   ],
   "outputs": [
    {
     "output_type": "stream",
     "name": "stdout",
     "text": [
      "Using device:  /device:GPU:0\n"
     ]
    }
   ],
   "metadata": {
    "tags": [
     "pdf-ignore"
    ]
   }
  },
  {
   "cell_type": "markdown",
   "source": [
    "# Part I: Preparation\n",
    "\n",
    "First, we load the CIFAR-10 dataset. This might take a few minutes to download the first time you run it, but after that the files should be cached on disk and loading should be faster.\n",
    "\n",
    "In previous parts of the assignment we used CS231N-specific code to download and read the CIFAR-10 dataset; however the `tf.keras.datasets` package in TensorFlow provides prebuilt utility functions for loading many common datasets.\n",
    "\n",
    "For the purposes of this assignment we will still write our own code to preprocess the data and iterate through it in minibatches. The `tf.data` package in TensorFlow provides tools for automating this process, but working with this package adds extra complication and is beyond the scope of this notebook. However using `tf.data` can be much more efficient than the simple approach used in this notebook, so you should consider using it for your project."
   ],
   "metadata": {}
  },
  {
   "cell_type": "code",
   "execution_count": 2,
   "source": [
    "def load_cifar10(num_training=49000, num_validation=1000, num_test=10000):\r\n",
    "    \"\"\"\r\n",
    "    Fetch the CIFAR-10 dataset from the web and perform preprocessing to prepare\r\n",
    "    it for the two-layer neural net classifier. These are the same steps as\r\n",
    "    we used for the SVM, but condensed to a single function.\r\n",
    "    \"\"\"\r\n",
    "    # Load the raw CIFAR-10 dataset and use appropriate data types and shapes\r\n",
    "    cifar10 = tf.keras.datasets.cifar10.load_data()\r\n",
    "    (X_train, y_train), (X_test, y_test) = cifar10\r\n",
    "    X_train = np.asarray(X_train, dtype=np.float32)\r\n",
    "    y_train = np.asarray(y_train, dtype=np.int32).flatten()\r\n",
    "    X_test = np.asarray(X_test, dtype=np.float32)\r\n",
    "    y_test = np.asarray(y_test, dtype=np.int32).flatten()\r\n",
    "\r\n",
    "    # Subsample the data\r\n",
    "    mask = range(num_training, num_training + num_validation)\r\n",
    "    X_val = X_train[mask]\r\n",
    "    y_val = y_train[mask]\r\n",
    "    mask = range(num_training)\r\n",
    "    X_train = X_train[mask]\r\n",
    "    y_train = y_train[mask]\r\n",
    "    mask = range(num_test)\r\n",
    "    X_test = X_test[mask]\r\n",
    "    y_test = y_test[mask]\r\n",
    "\r\n",
    "    # Normalize the data: subtract the mean pixel and divide by std\r\n",
    "    mean_pixel = X_train.mean(axis=(0, 1, 2), keepdims=True)\r\n",
    "    std_pixel = X_train.std(axis=(0, 1, 2), keepdims=True)\r\n",
    "    X_train = (X_train - mean_pixel) / std_pixel\r\n",
    "    X_val = (X_val - mean_pixel) / std_pixel\r\n",
    "    X_test = (X_test - mean_pixel) / std_pixel\r\n",
    "\r\n",
    "    return X_train, y_train, X_val, y_val, X_test, y_test\r\n",
    "\r\n",
    "# If there are errors with SSL downloading involving self-signed certificates,\r\n",
    "# it may be that your Python version was recently installed on the current machine.\r\n",
    "# See: https://github.com/tensorflow/tensorflow/issues/10779\r\n",
    "# To fix, run the command: /Applications/Python\\ 3.7/Install\\ Certificates.command\r\n",
    "#   ...replacing paths as necessary.\r\n",
    "\r\n",
    "# Invoke the above function to get our data.\r\n",
    "NHW = (0, 1, 2)\r\n",
    "X_train, y_train, X_val, y_val, X_test, y_test = load_cifar10()\r\n",
    "print('Train data shape: ', X_train.shape)\r\n",
    "print('Train labels shape: ', y_train.shape, y_train.dtype)\r\n",
    "print('Validation data shape: ', X_val.shape)\r\n",
    "print('Validation labels shape: ', y_val.shape)\r\n",
    "print('Test data shape: ', X_test.shape)\r\n",
    "print('Test labels shape: ', y_test.shape)"
   ],
   "outputs": [
    {
     "output_type": "stream",
     "name": "stdout",
     "text": [
      "Train data shape:  (49000, 32, 32, 3)\n",
      "Train labels shape:  (49000,) int32\n",
      "Validation data shape:  (1000, 32, 32, 3)\n",
      "Validation labels shape:  (1000,)\n",
      "Test data shape:  (10000, 32, 32, 3)\n",
      "Test labels shape:  (10000,)\n"
     ]
    }
   ],
   "metadata": {
    "tags": [
     "pdf-ignore"
    ]
   }
  },
  {
   "cell_type": "code",
   "execution_count": 3,
   "source": [
    "class Dataset(object):\r\n",
    "    def __init__(self, X, y, batch_size, shuffle=False):\r\n",
    "        \"\"\"\r\n",
    "        Construct a Dataset object to iterate over data X and labels y\r\n",
    "        \r\n",
    "        Inputs:\r\n",
    "        - X: Numpy array of data, of any shape\r\n",
    "        - y: Numpy array of labels, of any shape but with y.shape[0] == X.shape[0]\r\n",
    "        - batch_size: Integer giving number of elements per minibatch\r\n",
    "        - shuffle: (optional) Boolean, whether to shuffle the data on each epoch\r\n",
    "        \"\"\"\r\n",
    "        assert X.shape[0] == y.shape[0], 'Got different numbers of data and labels'\r\n",
    "        self.X, self.y = X, y\r\n",
    "        self.batch_size, self.shuffle = batch_size, shuffle\r\n",
    "\r\n",
    "    def __iter__(self):\r\n",
    "        N, B = self.X.shape[0], self.batch_size\r\n",
    "        idxs = np.arange(N)\r\n",
    "        if self.shuffle:\r\n",
    "            np.random.shuffle(idxs)\r\n",
    "        return iter((self.X[i:i+B], self.y[i:i+B]) for i in range(0, N, B))\r\n",
    "\r\n",
    "\r\n",
    "train_dset = Dataset(X_train, y_train, batch_size=64, shuffle=True)\r\n",
    "val_dset = Dataset(X_val, y_val, batch_size=64, shuffle=False)\r\n",
    "test_dset = Dataset(X_test, y_test, batch_size=64)"
   ],
   "outputs": [],
   "metadata": {
    "tags": [
     "pdf-ignore"
    ]
   }
  },
  {
   "cell_type": "code",
   "execution_count": 4,
   "source": [
    "# We can iterate through a dataset like this:\r\n",
    "for t, (x, y) in enumerate(train_dset):\r\n",
    "    print(t, x.shape, y.shape)\r\n",
    "    if t > 5: break"
   ],
   "outputs": [
    {
     "output_type": "stream",
     "name": "stdout",
     "text": [
      "0 (64, 32, 32, 3) (64,)\n",
      "1 (64, 32, 32, 3) (64,)\n",
      "2 (64, 32, 32, 3) (64,)\n",
      "3 (64, 32, 32, 3) (64,)\n",
      "4 (64, 32, 32, 3) (64,)\n",
      "5 (64, 32, 32, 3) (64,)\n",
      "6 (64, 32, 32, 3) (64,)\n"
     ]
    }
   ],
   "metadata": {}
  },
  {
   "cell_type": "markdown",
   "source": [
    "# Part II: Barebones TensorFlow\n",
    "TensorFlow ships with various high-level APIs which make it very convenient to define and train neural networks; we will cover some of these constructs in Part III and Part IV of this notebook. In this section we will start by building a model with basic TensorFlow constructs to help you better understand what's going on under the hood of the higher-level APIs.\n",
    "\n",
    "**\"Barebones Tensorflow\" is important to understanding the building blocks of TensorFlow, but much of it involves concepts from TensorFlow 1.x.** We will be working with legacy modules such as `tf.Variable`.\n",
    "\n",
    "Therefore, please read and understand the differences between legacy (1.x) TF and the new (2.0) TF.\n",
    "\n",
    "### Historical background on TensorFlow 1.x\n",
    "\n",
    "TensorFlow 1.x is primarily a framework for working with **static computational graphs**. Nodes in the computational graph are Tensors which will hold n-dimensional arrays when the graph is run; edges in the graph represent functions that will operate on Tensors when the graph is run to actually perform useful computation.\n",
    "\n",
    "Before Tensorflow 2.0, we had to configure the graph into two phases. There are plenty of tutorials online that explain this two-step process. The process generally looks like the following for TF 1.x:\n",
    "1. **Build a computational graph that describes the computation that you want to perform**. This stage doesn't actually perform any computation; it just builds up a symbolic representation of your computation. This stage will typically define one or more `placeholder` objects that represent inputs to the computational graph.\n",
    "2. **Run the computational graph many times.** Each time the graph is run (e.g. for one gradient descent step) you will specify which parts of the graph you want to compute, and pass a `feed_dict` dictionary that will give concrete values to any `placeholder`s in the graph.\n",
    "\n",
    "### The new paradigm in Tensorflow 2.0\n",
    "Now, with Tensorflow 2.0, we can simply adopt a functional form that is more Pythonic and similar in spirit to PyTorch and direct Numpy operation. Instead of the 2-step paradigm with computation graphs, making it (among other things) easier to debug TF code. You can read more details at https://www.tensorflow.org/guide/eager.\n",
    "\n",
    "The main difference between the TF 1.x and 2.0 approach is that the 2.0 approach doesn't make use of `tf.Session`, `tf.run`, `placeholder`, `feed_dict`. To get more details of what's different between the two version and how to convert between the two, check out the official migration guide: https://www.tensorflow.org/alpha/guide/migration_guide\n",
    "\n",
    "Later, in the rest of this notebook we'll focus on this new, simpler approach."
   ],
   "metadata": {
    "tags": [
     "pdf-ignore"
    ]
   }
  },
  {
   "cell_type": "markdown",
   "source": [
    "### TensorFlow warmup: Flatten Function\n",
    "\n",
    "We can see this in action by defining a simple `flatten` function that will reshape image data for use in a fully-connected network.\n",
    "\n",
    "In TensorFlow, data for convolutional feature maps is typically stored in a Tensor of shape N x H x W x C where:\n",
    "\n",
    "- N is the number of datapoints (minibatch size)\n",
    "- H is the height of the feature map\n",
    "- W is the width of the feature map\n",
    "- C is the number of channels in the feature map\n",
    "\n",
    "This is the right way to represent the data when we are doing something like a 2D convolution, that needs spatial understanding of where the intermediate features are relative to each other. When we use fully connected affine layers to process the image, however, we want each datapoint to be represented by a single vector -- it's no longer useful to segregate the different channels, rows, and columns of the data. So, we use a \"flatten\" operation to collapse the `H x W x C` values per representation into a single long vector. \n",
    "\n",
    "Notice the `tf.reshape` call has the target shape as `(N, -1)`, meaning it will reshape/keep the first dimension to be N, and then infer as necessary what the second dimension is in the output, so we can collapse the remaining dimensions from the input properly.\n",
    "\n",
    "**NOTE**: TensorFlow and PyTorch differ on the default Tensor layout; TensorFlow uses N x H x W x C but PyTorch uses N x C x H x W."
   ],
   "metadata": {
    "tags": [
     "pdf-ignore"
    ]
   }
  },
  {
   "cell_type": "code",
   "execution_count": 5,
   "source": [
    "def flatten(x):\r\n",
    "    \"\"\"    \r\n",
    "    Input:\r\n",
    "    - TensorFlow Tensor of shape (N, D1, ..., DM)\r\n",
    "    \r\n",
    "    Output:\r\n",
    "    - TensorFlow Tensor of shape (N, D1 * ... * DM)\r\n",
    "    \"\"\"\r\n",
    "    N = tf.shape(x)[0]\r\n",
    "    return tf.reshape(x, (N, -1))"
   ],
   "outputs": [],
   "metadata": {
    "tags": [
     "pdf-ignore"
    ]
   }
  },
  {
   "cell_type": "code",
   "execution_count": 6,
   "source": [
    "def test_flatten():\r\n",
    "    # Construct concrete values of the input data x using numpy\r\n",
    "    x_np = np.arange(24).reshape((2, 3, 4))\r\n",
    "    print('x_np:\\n', x_np, '\\n')\r\n",
    "    # Compute a concrete output value.\r\n",
    "    x_flat_np = flatten(x_np)\r\n",
    "    print('x_flat_np:\\n', x_flat_np, '\\n')\r\n",
    "\r\n",
    "test_flatten()"
   ],
   "outputs": [
    {
     "output_type": "stream",
     "name": "stdout",
     "text": [
      "x_np:\n",
      " [[[ 0  1  2  3]\n",
      "  [ 4  5  6  7]\n",
      "  [ 8  9 10 11]]\n",
      "\n",
      " [[12 13 14 15]\n",
      "  [16 17 18 19]\n",
      "  [20 21 22 23]]] \n",
      "\n",
      "x_flat_np:\n",
      " tf.Tensor(\n",
      "[[ 0  1  2  3  4  5  6  7  8  9 10 11]\n",
      " [12 13 14 15 16 17 18 19 20 21 22 23]], shape=(2, 12), dtype=int32) \n",
      "\n"
     ]
    }
   ],
   "metadata": {
    "tags": [
     "pdf-ignore-input"
    ]
   }
  },
  {
   "cell_type": "markdown",
   "source": [
    "### Barebones TensorFlow: Define a Two-Layer Network\n",
    "We will now implement our first neural network with TensorFlow: a fully-connected ReLU network with two hidden layers and no biases on the CIFAR10 dataset. For now we will use only low-level TensorFlow operators to define the network; later we will see how to use the higher-level abstractions provided by `tf.keras` to simplify the process.\n",
    "\n",
    "We will define the forward pass of the network in the function `two_layer_fc`; this will accept TensorFlow Tensors for the inputs and weights of the network, and return a TensorFlow Tensor for the scores. \n",
    "\n",
    "After defining the network architecture in the `two_layer_fc` function, we will test the implementation by checking the shape of the output.\n",
    "\n",
    "**It's important that you read and understand this implementation.**"
   ],
   "metadata": {}
  },
  {
   "cell_type": "code",
   "execution_count": 7,
   "source": [
    "def two_layer_fc(x, params):\r\n",
    "    \"\"\"\r\n",
    "    A fully-connected neural network; the architecture is:\r\n",
    "    fully-connected layer -> ReLU -> fully connected layer.\r\n",
    "    Note that we only need to define the forward pass here; TensorFlow will take\r\n",
    "    care of computing the gradients for us.\r\n",
    "    \r\n",
    "    The input to the network will be a minibatch of data, of shape\r\n",
    "    (N, d1, ..., dM) where d1 * ... * dM = D. The hidden layer will have H units,\r\n",
    "    and the output layer will produce scores for C classes.\r\n",
    "\r\n",
    "    Inputs:\r\n",
    "    - x: A TensorFlow Tensor of shape (N, d1, ..., dM) giving a minibatch of\r\n",
    "      input data.\r\n",
    "    - params: A list [w1, w2] of TensorFlow Tensors giving weights for the\r\n",
    "      network, where w1 has shape (D, H) and w2 has shape (H, C).\r\n",
    "    \r\n",
    "    Returns:\r\n",
    "    - scores: A TensorFlow Tensor of shape (N, C) giving classification scores\r\n",
    "      for the input data x.\r\n",
    "    \"\"\"\r\n",
    "    w1, w2 = params                   # Unpack the parameters\r\n",
    "    x = flatten(x)                    # Flatten the input; now x has shape (N, D)\r\n",
    "    h = tf.nn.relu(tf.matmul(x, w1))  # Hidden layer: h has shape (N, H)\r\n",
    "    scores = tf.matmul(h, w2)         # Compute scores of shape (N, C)\r\n",
    "    return scores"
   ],
   "outputs": [],
   "metadata": {
    "tags": [
     "pdf-ignore"
    ]
   }
  },
  {
   "cell_type": "code",
   "execution_count": 8,
   "source": [
    "def two_layer_fc_test():\r\n",
    "    hidden_layer_size = 42\r\n",
    "\r\n",
    "    # Scoping our TF operations under a tf.device context manager \r\n",
    "    # lets us tell TensorFlow where we want these Tensors to be\r\n",
    "    # multiplied and/or operated on, e.g. on a CPU or a GPU.\r\n",
    "    with tf.device(device):        \r\n",
    "        x = tf.zeros((64, 32, 32, 3))\r\n",
    "        w1 = tf.zeros((32 * 32 * 3, hidden_layer_size))\r\n",
    "        w2 = tf.zeros((hidden_layer_size, 10))\r\n",
    "\r\n",
    "        # Call our two_layer_fc function for the forward pass of the network.\r\n",
    "        scores = two_layer_fc(x, [w1, w2])\r\n",
    "\r\n",
    "    print(scores.shape)\r\n",
    "\r\n",
    "two_layer_fc_test()"
   ],
   "outputs": [
    {
     "output_type": "stream",
     "name": "stdout",
     "text": [
      "(64, 10)\n"
     ]
    }
   ],
   "metadata": {
    "tags": [
     "pdf-ignore-input"
    ]
   }
  },
  {
   "cell_type": "markdown",
   "source": [
    "### Barebones TensorFlow: Three-Layer ConvNet\r\n",
    "Here you will complete the implementation of the function `three_layer_convnet` which will perform the forward pass of a three-layer convolutional network. The network should have the following architecture:\r\n",
    "\r\n",
    "1. A convolutional layer (with bias) with `channel_1` filters, each with shape `KW1 x KH1`, and zero-padding of two\r\n",
    "2. ReLU nonlinearity\r\n",
    "3. A convolutional layer (with bias) with `channel_2` filters, each with shape `KW2 x KH2`, and zero-padding of one\r\n",
    "4. ReLU nonlinearity\r\n",
    "5. Fully-connected layer with bias, producing scores for `C` classes.\r\n",
    "\r\n",
    "**HINT**: For convolutions: https://www.tensorflow.org/versions/r2.0/api_docs/python/tf/nn/conv2d; be careful with padding!\r\n",
    "\r\n",
    "**HINT**: For biases: https://www.tensorflow.org/performance/xla/broadcasting"
   ],
   "metadata": {}
  },
  {
   "cell_type": "code",
   "execution_count": 9,
   "source": [
    "def three_layer_convnet(x, params):\r\n",
    "    \"\"\"\r\n",
    "    A three-layer convolutional network with the architecture described above.\r\n",
    "    \r\n",
    "    Inputs:\r\n",
    "    - x: A TensorFlow Tensor of shape (N, H, W, 3) giving a minibatch of images\r\n",
    "    - params: A list of TensorFlow Tensors giving the weights and biases for the\r\n",
    "      network; should contain the following:\r\n",
    "      - conv_w1: TensorFlow Tensor of shape (KH1, KW1, 3, channel_1) giving\r\n",
    "        weights for the first convolutional layer.\r\n",
    "      - conv_b1: TensorFlow Tensor of shape (channel_1,) giving biases for the\r\n",
    "        first convolutional layer.\r\n",
    "      - conv_w2: TensorFlow Tensor of shape (KH2, KW2, channel_1, channel_2)\r\n",
    "        giving weights for the second convolutional layer\r\n",
    "      - conv_b2: TensorFlow Tensor of shape (channel_2,) giving biases for the\r\n",
    "        second convolutional layer.\r\n",
    "      - fc_w: TensorFlow Tensor giving weights for the fully-connected layer.\r\n",
    "        Can you figure out what the shape should be?\r\n",
    "      - fc_b: TensorFlow Tensor giving biases for the fully-connected layer.\r\n",
    "        Can you figure out what the shape should be?\r\n",
    "    \"\"\"\r\n",
    "    conv_w1, conv_b1, conv_w2, conv_b2, fc_w, fc_b = params\r\n",
    "    scores = None\r\n",
    "    ############################################################################\r\n",
    "    # TODO: Implement the forward pass for the three-layer ConvNet.            #\r\n",
    "    ############################################################################\r\n",
    "    # *****START OF YOUR CODE (DO NOT DELETE/MODIFY THIS LINE)*****\r\n",
    "    x = tf.nn.conv2d(x,conv_w1,padding=[[0,0],[2,2],[2,2],[0,0]],strides=1)\r\n",
    "    x = tf.nn.relu(tf.nn.bias_add(x,conv_b1))\r\n",
    "    x = tf.nn.conv2d(x,conv_w2,padding=[[0,0],[1,1],[1,1],[0,0]],strides=1)\r\n",
    "    x = tf.nn.relu(tf.nn.bias_add(x,conv_b2))\r\n",
    "    x = flatten(x)\r\n",
    "    x = tf.nn.bias_add(tf.matmul(x,fc_w),fc_b)\r\n",
    "    scores = x\r\n",
    "    # *****END OF YOUR CODE (DO NOT DELETE/MODIFY THIS LINE)*****\r\n",
    "    ############################################################################\r\n",
    "    #                              END OF YOUR CODE                            #\r\n",
    "    ############################################################################\r\n",
    "    return scores"
   ],
   "outputs": [],
   "metadata": {}
  },
  {
   "cell_type": "markdown",
   "source": [
    "After defing the forward pass of the three-layer ConvNet above, run the following cell to test your implementation. Like the two-layer network, we run the graph on a batch of zeros just to make sure the function doesn't crash, and produces outputs of the correct shape.\n",
    "\n",
    "When you run this function, `scores_np` should have shape `(64, 10)`."
   ],
   "metadata": {}
  },
  {
   "cell_type": "code",
   "execution_count": 10,
   "source": [
    "def three_layer_convnet_test():\r\n",
    "    \r\n",
    "    with tf.device(device):\r\n",
    "        x = tf.zeros((64, 32, 32, 3))\r\n",
    "        conv_w1 = tf.zeros((5, 5, 3, 6))\r\n",
    "        conv_b1 = tf.zeros((6,))\r\n",
    "        conv_w2 = tf.zeros((3, 3, 6, 9))\r\n",
    "        conv_b2 = tf.zeros((9,))\r\n",
    "        fc_w = tf.zeros((32 * 32 * 9, 10))\r\n",
    "        fc_b = tf.zeros((10,))\r\n",
    "        params = [conv_w1, conv_b1, conv_w2, conv_b2, fc_w, fc_b]\r\n",
    "        scores = three_layer_convnet(x, params)\r\n",
    "\r\n",
    "    # Inputs to convolutional layers are 4-dimensional arrays with shape\r\n",
    "    # [batch_size, height, width, channels]\r\n",
    "    print('scores_np has shape: ', scores.shape)\r\n",
    "\r\n",
    "three_layer_convnet_test()"
   ],
   "outputs": [
    {
     "output_type": "stream",
     "name": "stdout",
     "text": [
      "scores_np has shape:  (64, 10)\n"
     ]
    }
   ],
   "metadata": {
    "id": "barebones_output_shape",
    "tags": [
     "pdf-ignore-input"
    ]
   }
  },
  {
   "cell_type": "markdown",
   "source": [
    "### Barebones TensorFlow: Training Step\n",
    "\n",
    "We now define the `training_step` function performs a single training step. This will take three basic steps:\n",
    "\n",
    "1. Compute the loss\n",
    "2. Compute the gradient of the loss with respect to all network weights\n",
    "3. Make a weight update step using (stochastic) gradient descent.\n",
    "\n",
    "\n",
    "We need to use a few new TensorFlow functions to do all of this:\n",
    "- For computing the cross-entropy loss we'll use `tf.nn.sparse_softmax_cross_entropy_with_logits`: https://www.tensorflow.org/versions/r2.0/api_docs/python/tf/nn/sparse_softmax_cross_entropy_with_logits\n",
    "\n",
    "- For averaging the loss across a minibatch of data we'll use `tf.reduce_mean`:\n",
    "https://www.tensorflow.org/versions/r2.0/api_docs/python/tf/reduce_mean\n",
    "\n",
    "- For computing gradients of the loss with respect to the weights we'll use `tf.GradientTape` (useful for Eager execution):  https://www.tensorflow.org/versions/r2.0/api_docs/python/tf/GradientTape\n",
    "\n",
    "- We'll mutate the weight values stored in a TensorFlow Tensor using `tf.assign_sub` (\"sub\" is for subtraction): https://www.tensorflow.org/api_docs/python/tf/assign_sub \n"
   ],
   "metadata": {}
  },
  {
   "cell_type": "code",
   "execution_count": 11,
   "source": [
    "def training_step(model_fn, x, y, params, learning_rate):\r\n",
    "    with tf.GradientTape() as tape:\r\n",
    "        scores = model_fn(x, params) # Forward pass of the model\r\n",
    "        loss = tf.nn.sparse_softmax_cross_entropy_with_logits(labels=y, logits=scores)\r\n",
    "        total_loss = tf.reduce_mean(loss)\r\n",
    "        grad_params = tape.gradient(total_loss, params)\r\n",
    "\r\n",
    "        # Make a vanilla gradient descent step on all of the model parameters\r\n",
    "        # Manually update the weights using assign_sub()\r\n",
    "        for w, grad_w in zip(params, grad_params):\r\n",
    "            w.assign_sub(learning_rate * grad_w)\r\n",
    "                        \r\n",
    "        return total_loss"
   ],
   "outputs": [],
   "metadata": {
    "tags": [
     "pdf-ignore"
    ]
   }
  },
  {
   "cell_type": "code",
   "execution_count": 12,
   "source": [
    "def train_part2(model_fn, init_fn, learning_rate):\r\n",
    "    \"\"\"\r\n",
    "    Train a model on CIFAR-10.\r\n",
    "    \r\n",
    "    Inputs:\r\n",
    "    - model_fn: A Python function that performs the forward pass of the model\r\n",
    "      using TensorFlow; it should have the following signature:\r\n",
    "      scores = model_fn(x, params) where x is a TensorFlow Tensor giving a\r\n",
    "      minibatch of image data, params is a list of TensorFlow Tensors holding\r\n",
    "      the model weights, and scores is a TensorFlow Tensor of shape (N, C)\r\n",
    "      giving scores for all elements of x.\r\n",
    "    - init_fn: A Python function that initializes the parameters of the model.\r\n",
    "      It should have the signature params = init_fn() where params is a list\r\n",
    "      of TensorFlow Tensors holding the (randomly initialized) weights of the\r\n",
    "      model.\r\n",
    "    - learning_rate: Python float giving the learning rate to use for SGD.\r\n",
    "    \"\"\"\r\n",
    "    \r\n",
    "    \r\n",
    "    params = init_fn()  # Initialize the model parameters            \r\n",
    "        \r\n",
    "    for t, (x_np, y_np) in enumerate(train_dset):\r\n",
    "        # Run the graph on a batch of training data.\r\n",
    "        loss = training_step(model_fn, x_np, y_np, params, learning_rate)\r\n",
    "        \r\n",
    "        # Periodically print the loss and check accuracy on the val set.\r\n",
    "        if t % print_every == 0:\r\n",
    "            print('Iteration %d, loss = %.4f' % (t, loss))\r\n",
    "            check_accuracy(val_dset, x_np, model_fn, params)"
   ],
   "outputs": [],
   "metadata": {
    "tags": [
     "pdf-ignore"
    ]
   }
  },
  {
   "cell_type": "code",
   "execution_count": 13,
   "source": [
    "def check_accuracy(dset, x, model_fn, params):\r\n",
    "    \"\"\"\r\n",
    "    Check accuracy on a classification model, e.g. for validation.\r\n",
    "    \r\n",
    "    Inputs:\r\n",
    "    - dset: A Dataset object against which to check accuracy\r\n",
    "    - x: A TensorFlow placeholder Tensor where input images should be fed\r\n",
    "    - model_fn: the Model we will be calling to make predictions on x\r\n",
    "    - params: parameters for the model_fn to work with\r\n",
    "      \r\n",
    "    Returns: Nothing, but prints the accuracy of the model\r\n",
    "    \"\"\"\r\n",
    "    num_correct, num_samples = 0, 0\r\n",
    "    for x_batch, y_batch in dset:\r\n",
    "        scores_np = model_fn(x_batch, params).numpy()\r\n",
    "        y_pred = scores_np.argmax(axis=1)\r\n",
    "        num_samples += x_batch.shape[0]\r\n",
    "        num_correct += (y_pred == y_batch).sum()\r\n",
    "    acc = float(num_correct) / num_samples\r\n",
    "    print('Got %d / %d correct (%.2f%%)' % (num_correct, num_samples, 100 * acc))"
   ],
   "outputs": [],
   "metadata": {
    "tags": [
     "pdf-ignore"
    ]
   }
  },
  {
   "cell_type": "markdown",
   "source": [
    "### Barebones TensorFlow: Initialization\n",
    "We'll use the following utility method to initialize the weight matrices for our models using Kaiming's normalization method.\n",
    "\n",
    "[1] He et al, *Delving Deep into Rectifiers: Surpassing Human-Level Performance on ImageNet Classification\n",
    "*, ICCV 2015, https://arxiv.org/abs/1502.01852"
   ],
   "metadata": {}
  },
  {
   "cell_type": "code",
   "execution_count": 14,
   "source": [
    "def create_matrix_with_kaiming_normal(shape):\r\n",
    "    if len(shape) == 2:\r\n",
    "        fan_in, fan_out = shape[0], shape[1]\r\n",
    "    elif len(shape) == 4:\r\n",
    "        fan_in, fan_out = np.prod(shape[:3]), shape[3]\r\n",
    "    return tf.keras.backend.random_normal(shape) * np.sqrt(2.0 / fan_in)"
   ],
   "outputs": [],
   "metadata": {}
  },
  {
   "cell_type": "markdown",
   "source": [
    "### Barebones TensorFlow: Train a Two-Layer Network\n",
    "We are finally ready to use all of the pieces defined above to train a two-layer fully-connected network on CIFAR-10.\n",
    "\n",
    "We just need to define a function to initialize the weights of the model, and call `train_part2`.\n",
    "\n",
    "Defining the weights of the network introduces another important piece of TensorFlow API: `tf.Variable`. A TensorFlow Variable is a Tensor whose value is stored in the graph and persists across runs of the computational graph; however unlike constants defined with `tf.zeros` or `tf.random_normal`, the values of a Variable can be mutated as the graph runs; these mutations will persist across graph runs. Learnable parameters of the network are usually stored in Variables.\n",
    "\n",
    "You don't need to tune any hyperparameters, but you should achieve validation accuracies above 40% after one epoch of training."
   ],
   "metadata": {}
  },
  {
   "cell_type": "code",
   "execution_count": 15,
   "source": [
    "def two_layer_fc_init():\r\n",
    "    \"\"\"\r\n",
    "    Initialize the weights of a two-layer network, for use with the\r\n",
    "    two_layer_network function defined above. \r\n",
    "    You can use the `create_matrix_with_kaiming_normal` helper!\r\n",
    "    \r\n",
    "    Inputs: None\r\n",
    "    \r\n",
    "    Returns: A list of:\r\n",
    "    - w1: TensorFlow tf.Variable giving the weights for the first layer\r\n",
    "    - w2: TensorFlow tf.Variable giving the weights for the second layer\r\n",
    "    \"\"\"\r\n",
    "    hidden_layer_size = 4000\r\n",
    "    w1 = tf.Variable(create_matrix_with_kaiming_normal((3 * 32 * 32, 4000)))\r\n",
    "    w2 = tf.Variable(create_matrix_with_kaiming_normal((4000, 10)))\r\n",
    "    return [w1, w2]\r\n",
    "\r\n",
    "learning_rate = 1e-2\r\n",
    "train_part2(two_layer_fc, two_layer_fc_init, learning_rate)"
   ],
   "outputs": [
    {
     "output_type": "stream",
     "name": "stdout",
     "text": [
      "Iteration 0, loss = 2.9134\n",
      "Got 148 / 1000 correct (14.80%)\n",
      "Iteration 100, loss = 1.8707\n",
      "Got 371 / 1000 correct (37.10%)\n",
      "Iteration 200, loss = 1.4443\n",
      "Got 403 / 1000 correct (40.30%)\n",
      "Iteration 300, loss = 1.8336\n",
      "Got 390 / 1000 correct (39.00%)\n",
      "Iteration 400, loss = 1.7982\n",
      "Got 411 / 1000 correct (41.10%)\n",
      "Iteration 500, loss = 1.8027\n",
      "Got 436 / 1000 correct (43.60%)\n",
      "Iteration 600, loss = 1.8937\n",
      "Got 418 / 1000 correct (41.80%)\n",
      "Iteration 700, loss = 1.9322\n",
      "Got 446 / 1000 correct (44.60%)\n"
     ]
    }
   ],
   "metadata": {}
  },
  {
   "cell_type": "markdown",
   "source": [
    "### Barebones TensorFlow: Train a three-layer ConvNet\n",
    "We will now use TensorFlow to train a three-layer ConvNet on CIFAR-10.\n",
    "\n",
    "You need to implement the `three_layer_convnet_init` function. Recall that the architecture of the network is:\n",
    "\n",
    "1. Convolutional layer (with bias) with 32 5x5 filters, with zero-padding 2\n",
    "2. ReLU\n",
    "3. Convolutional layer (with bias) with 16 3x3 filters, with zero-padding 1\n",
    "4. ReLU\n",
    "5. Fully-connected layer (with bias) to compute scores for 10 classes\n",
    "\n",
    "You don't need to do any hyperparameter tuning, but you should see validation accuracies above 43% after one epoch of training."
   ],
   "metadata": {}
  },
  {
   "cell_type": "code",
   "execution_count": 16,
   "source": [
    "def three_layer_convnet_init():\r\n",
    "    \"\"\"\r\n",
    "    Initialize the weights of a Three-Layer ConvNet, for use with the\r\n",
    "    three_layer_convnet function defined above.\r\n",
    "    You can use the `create_matrix_with_kaiming_normal` helper!\r\n",
    "    \r\n",
    "    Inputs: None\r\n",
    "    \r\n",
    "    Returns a list containing:\r\n",
    "    - conv_w1: TensorFlow tf.Variable giving weights for the first conv layer\r\n",
    "    - conv_b1: TensorFlow tf.Variable giving biases for the first conv layer\r\n",
    "    - conv_w2: TensorFlow tf.Variable giving weights for the second conv layer\r\n",
    "    - conv_b2: TensorFlow tf.Variable giving biases for the second conv layer\r\n",
    "    - fc_w: TensorFlow tf.Variable giving weights for the fully-connected layer\r\n",
    "    - fc_b: TensorFlow tf.Variable giving biases for the fully-connected layer\r\n",
    "    \"\"\"\r\n",
    "    params = None\r\n",
    "    ############################################################################\r\n",
    "    # TODO: Initialize the parameters of the three-layer network.              #\r\n",
    "    ############################################################################\r\n",
    "    # *****START OF YOUR CODE (DO NOT DELETE/MODIFY THIS LINE)*****\r\n",
    "\r\n",
    "    conv_w1 = tf.Variable(create_matrix_with_kaiming_normal((5,5,3,32)))\r\n",
    "    conv_b1 = tf.Variable(tf.zeros(32,))\r\n",
    "    conv_w2 = tf.Variable(create_matrix_with_kaiming_normal((3,3,32,16)))\r\n",
    "    conv_b2 = tf.Variable(tf.zeros(16,))\r\n",
    "    fc_w = tf.Variable(create_matrix_with_kaiming_normal((16*32*32,10)))\r\n",
    "    fc_b = tf.Variable(tf.zeros(10,))\r\n",
    "\r\n",
    "    params = [conv_w1,conv_b1,conv_w2,conv_b2,fc_w,fc_b]\r\n",
    "    # *****END OF YOUR CODE (DO NOT DELETE/MODIFY THIS LINE)*****\r\n",
    "    ############################################################################\r\n",
    "    #                             END OF YOUR CODE                             #\r\n",
    "    ############################################################################\r\n",
    "    return params\r\n",
    "\r\n",
    "learning_rate = 3e-3\r\n",
    "train_part2(three_layer_convnet, three_layer_convnet_init, learning_rate)"
   ],
   "outputs": [
    {
     "output_type": "stream",
     "name": "stdout",
     "text": [
      "Iteration 0, loss = 2.7479\n",
      "Got 126 / 1000 correct (12.60%)\n",
      "Iteration 100, loss = 1.8727\n",
      "Got 348 / 1000 correct (34.80%)\n",
      "Iteration 200, loss = 1.5598\n",
      "Got 423 / 1000 correct (42.30%)\n",
      "Iteration 300, loss = 1.8005\n",
      "Got 403 / 1000 correct (40.30%)\n",
      "Iteration 400, loss = 1.6699\n",
      "Got 446 / 1000 correct (44.60%)\n",
      "Iteration 500, loss = 1.6578\n",
      "Got 451 / 1000 correct (45.10%)\n",
      "Iteration 600, loss = 1.6712\n",
      "Got 471 / 1000 correct (47.10%)\n",
      "Iteration 700, loss = 1.7253\n",
      "Got 475 / 1000 correct (47.50%)\n"
     ]
    }
   ],
   "metadata": {
    "id": "barebones_accuracy"
   }
  },
  {
   "cell_type": "markdown",
   "source": [
    "# Part III: Keras Model Subclassing API\r\n",
    "\r\n",
    "Implementing a neural network using the low-level TensorFlow API is a good way to understand how TensorFlow works, but it's a little inconvenient - we had to manually keep track of all Tensors holding learnable parameters. This was fine for a small network, but could quickly become unweildy for a large complex model.\r\n",
    "\r\n",
    "Fortunately TensorFlow 2.0 provides higher-level APIs such as `tf.keras` which make it easy to build models out of modular, object-oriented layers. Further, TensorFlow 2.0 uses eager execution that evaluates operations immediately, without explicitly constructing any computational graphs. This makes it easy to write and debug models, and reduces the boilerplate code.\r\n",
    "\r\n",
    "In this part of the notebook we will define neural network models using the `tf.keras.Model` API. To implement your own model, you need to do the following:\r\n",
    "\r\n",
    "1. Define a new class which subclasses `tf.keras.Model`. Give your class an intuitive name that describes it, like `TwoLayerFC` or `ThreeLayerConvNet`.\r\n",
    "2. In the initializer `__init__()` for your new class, define all the layers you need as class attributes. The `tf.keras.layers` package provides many common neural-network layers, like `tf.keras.layers.Dense` for fully-connected layers and `tf.keras.layers.Conv2D` for convolutional layers. Under the hood, these layers will construct `Variable` Tensors for any learnable parameters. **Warning**: Don't forget to call `super(YourModelName, self).__init__()` as the first line in your initializer!\r\n",
    "3. Implement the `call()` method for your class; this implements the forward pass of your model, and defines the *connectivity* of your network. Layers defined in `__init__()` implement `__call__()` so they can be used as function objects that transform input Tensors into output Tensors. Don't define any new layers in `call()`; any layers you want to use in the forward pass should be defined in `__init__()`.\r\n",
    "\r\n",
    "After you define your `tf.keras.Model` subclass, you can instantiate it and use it like the model functions from Part II.\r\n",
    "\r\n",
    "### Keras Model Subclassing API: Two-Layer Network\r\n",
    "\r\n",
    "Here is a concrete example of using the `tf.keras.Model` API to define a two-layer network. There are a few new bits of API to be aware of here:\r\n",
    "\r\n",
    "We use an `Initializer` object to set up the initial values of the learnable parameters of the layers; in particular `tf.initializers.VarianceScaling` gives behavior similar to the Kaiming initialization method we used in Part II. You can read more about it here: https://www.tensorflow.org/versions/r2.0/api_docs/python/tf/initializers/VarianceScaling\r\n",
    "\r\n",
    "We construct `tf.keras.layers.Dense` objects to represent the two fully-connected layers of the model. In addition to multiplying their input by a weight matrix and adding a bias vector, these layer can also apply a nonlinearity for you. For the first layer we specify a ReLU activation function by passing `activation='relu'` to the constructor; the second layer uses softmax activation function. Finally, we use `tf.keras.layers.Flatten` to flatten the output from the previous fully-connected layer."
   ],
   "metadata": {
    "tags": [
     "pdf-ignore"
    ]
   }
  },
  {
   "cell_type": "code",
   "execution_count": 17,
   "source": [
    "class TwoLayerFC(tf.keras.Model):\r\n",
    "    def __init__(self, hidden_size, num_classes):\r\n",
    "        super(TwoLayerFC, self).__init__()        \r\n",
    "        initializer = tf.initializers.VarianceScaling(scale=2.0)\r\n",
    "        self.fc1 = tf.keras.layers.Dense(hidden_size, activation='relu',\r\n",
    "                                   kernel_initializer=initializer)\r\n",
    "        self.fc2 = tf.keras.layers.Dense(num_classes, activation='softmax',\r\n",
    "                                   kernel_initializer=initializer)\r\n",
    "        self.flatten = tf.keras.layers.Flatten()\r\n",
    "    \r\n",
    "    def call(self, x, training=False):\r\n",
    "        x = self.flatten(x)\r\n",
    "        x = self.fc1(x)\r\n",
    "        x = self.fc2(x)\r\n",
    "        return x\r\n",
    "\r\n",
    "\r\n",
    "def test_TwoLayerFC():\r\n",
    "    \"\"\" A small unit test to exercise the TwoLayerFC model above. \"\"\"\r\n",
    "    input_size, hidden_size, num_classes = 50, 42, 10\r\n",
    "    x = tf.zeros((64, input_size))\r\n",
    "    model = TwoLayerFC(hidden_size, num_classes)\r\n",
    "    with tf.device(device):\r\n",
    "        scores = model(x)\r\n",
    "        print(scores.shape)\r\n",
    "        \r\n",
    "test_TwoLayerFC()"
   ],
   "outputs": [
    {
     "output_type": "stream",
     "name": "stdout",
     "text": [
      "(64, 10)\n"
     ]
    }
   ],
   "metadata": {
    "tags": [
     "pdf-ignore-input"
    ]
   }
  },
  {
   "cell_type": "markdown",
   "source": [
    "### Keras Model Subclassing API: Three-Layer ConvNet\r\n",
    "Now it's your turn to implement a three-layer ConvNet using the `tf.keras.Model` API. Your model should have the same architecture used in Part II:\r\n",
    "\r\n",
    "1. Convolutional layer with 5 x 5 kernels, with zero-padding of 2\r\n",
    "2. ReLU nonlinearity\r\n",
    "3. Convolutional layer with 3 x 3 kernels, with zero-padding of 1\r\n",
    "4. ReLU nonlinearity\r\n",
    "5. Fully-connected layer to give class scores\r\n",
    "6. Softmax nonlinearity\r\n",
    "\r\n",
    "You should initialize the weights of your network using the same initialization method as was used in the two-layer network above.\r\n",
    "\r\n",
    "**Hint**: Refer to the documentation for `tf.keras.layers.Conv2D` and `tf.keras.layers.Dense`:\r\n",
    "\r\n",
    "https://www.tensorflow.org/versions/r2.0/api_docs/python/tf/keras/layers/Conv2D\r\n",
    "\r\n",
    "https://www.tensorflow.org/versions/r2.0/api_docs/python/tf/keras/layers/Dense"
   ],
   "metadata": {}
  },
  {
   "cell_type": "code",
   "execution_count": 18,
   "source": [
    "class ThreeLayerConvNet(tf.keras.Model):\r\n",
    "    def __init__(self, channel_1, channel_2, num_classes):\r\n",
    "        super(ThreeLayerConvNet, self).__init__()\r\n",
    "        ########################################################################\r\n",
    "        # TODO: Implement the __init__ method for a three-layer ConvNet. You   #\r\n",
    "        # should instantiate layer objects to be used in the forward pass.     #\r\n",
    "        ########################################################################\r\n",
    "        # *****START OF YOUR CODE (DO NOT DELETE/MODIFY THIS LINE)*****\r\n",
    "        initializer = tf.initializers.VarianceScaling(scale=2.0)\r\n",
    "        self.conv1_padding = tf.keras.layers.ZeroPadding2D(padding=(2,2))\r\n",
    "        # 实际上应该是只需要padding = 'same'\r\n",
    "        self.conv1 = tf.keras.layers.Conv2D(channel_1,5,activation='relu',kernel_initializer=initializer)\r\n",
    "        self.conv2_padding = tf.keras.layers.ZeroPadding2D(padding=(1,1))\r\n",
    "        self.conv2 = tf.keras.layers.Conv2D(channel_2,3,activation='relu',kernel_initializer=initializer)\r\n",
    "        self.flatten = tf.keras.layers.Flatten()\r\n",
    "        self.dense1 = tf.keras.layers.Dense(num_classes,kernel_initializer=initializer,activation='softmax')\r\n",
    "\r\n",
    "        # *****END OF YOUR CODE (DO NOT DELETE/MODIFY THIS LINE)*****\r\n",
    "        ########################################################################\r\n",
    "        #                           END OF YOUR CODE                           #\r\n",
    "        ########################################################################\r\n",
    "        \r\n",
    "    def call(self, x, training=False):\r\n",
    "        scores = None\r\n",
    "        ########################################################################\r\n",
    "        # TODO: Implement the forward pass for a three-layer ConvNet. You      #\r\n",
    "        # should use the layer objects defined in the __init__ method.         #\r\n",
    "        ########################################################################\r\n",
    "        # *****START OF YOUR CODE (DO NOT DELETE/MODIFY THIS LINE)*****\r\n",
    "\r\n",
    "        x = self.conv1(self.conv1_padding(x))\r\n",
    "        x = self.conv2(self.conv2_padding(x))\r\n",
    "        x = self.dense1(self.flatten(x))\r\n",
    "        scores = x\r\n",
    "        # *****END OF YOUR CODE (DO NOT DELETE/MODIFY THIS LINE)*****\r\n",
    "        ########################################################################\r\n",
    "        #                           END OF YOUR CODE                           #\r\n",
    "        ########################################################################        \r\n",
    "        return scores"
   ],
   "outputs": [],
   "metadata": {}
  },
  {
   "cell_type": "markdown",
   "source": [
    "Once you complete the implementation of the `ThreeLayerConvNet` above you can run the following to ensure that your implementation does not crash and produces outputs of the expected shape."
   ],
   "metadata": {}
  },
  {
   "cell_type": "code",
   "execution_count": 19,
   "source": [
    "def test_ThreeLayerConvNet():    \r\n",
    "    channel_1, channel_2, num_classes = 12, 8, 10\r\n",
    "    model = ThreeLayerConvNet(channel_1, channel_2, num_classes)\r\n",
    "    with tf.device(device):\r\n",
    "        x = tf.zeros((64, 3, 32, 32))\r\n",
    "        scores = model(x)\r\n",
    "        print(scores.shape)\r\n",
    "\r\n",
    "test_ThreeLayerConvNet()"
   ],
   "outputs": [
    {
     "output_type": "stream",
     "name": "stdout",
     "text": [
      "(64, 10)\n"
     ]
    }
   ],
   "metadata": {
    "id": "keras_model_output_shape"
   }
  },
  {
   "cell_type": "markdown",
   "source": [
    "### Keras Model Subclassing API: Eager Training\n",
    "\n",
    "While keras models have a builtin training loop (using the `model.fit`), sometimes you need more customization. Here's an example, of a training loop implemented with eager execution.\n",
    "\n",
    "In particular, notice `tf.GradientTape`. Automatic differentiation is used in the backend for implementing backpropagation in frameworks like TensorFlow. During eager execution, `tf.GradientTape` is used to trace operations for computing gradients later. A particular `tf.GradientTape` can only compute one gradient; subsequent calls to tape will throw a runtime error. \n",
    "\n",
    "TensorFlow 2.0 ships with easy-to-use built-in metrics under `tf.keras.metrics` module. Each metric is an object, and we can use `update_state()` to add observations and `reset_state()` to clear all observations. We can get the current result of a metric by calling `result()` on the metric object."
   ],
   "metadata": {}
  },
  {
   "cell_type": "code",
   "execution_count": 20,
   "source": [
    "def train_part34(model_init_fn, optimizer_init_fn, num_epochs=1, is_training=False):\r\n",
    "    \"\"\"\r\n",
    "    Simple training loop for use with models defined using tf.keras. It trains\r\n",
    "    a model for one epoch on the CIFAR-10 training set and periodically checks\r\n",
    "    accuracy on the CIFAR-10 validation set.\r\n",
    "    \r\n",
    "    Inputs:\r\n",
    "    - model_init_fn: A function that takes no parameters; when called it\r\n",
    "      constructs the model we want to train: model = model_init_fn()\r\n",
    "    - optimizer_init_fn: A function which takes no parameters; when called it\r\n",
    "      constructs the Optimizer object we will use to optimize the model:\r\n",
    "      optimizer = optimizer_init_fn()\r\n",
    "    - num_epochs: The number of epochs to train for\r\n",
    "    \r\n",
    "    Returns: Nothing, but prints progress during trainingn\r\n",
    "    \"\"\"    \r\n",
    "    with tf.device(device):\r\n",
    "\r\n",
    "        # Compute the loss like we did in Part II\r\n",
    "        loss_fn = tf.keras.losses.SparseCategoricalCrossentropy()\r\n",
    "        \r\n",
    "        model = model_init_fn()\r\n",
    "        optimizer = optimizer_init_fn()\r\n",
    "        \r\n",
    "        train_loss = tf.keras.metrics.Mean(name='train_loss')\r\n",
    "        train_accuracy = tf.keras.metrics.SparseCategoricalAccuracy(name='train_accuracy')\r\n",
    "    \r\n",
    "        val_loss = tf.keras.metrics.Mean(name='val_loss')\r\n",
    "        val_accuracy = tf.keras.metrics.SparseCategoricalAccuracy(name='val_accuracy')\r\n",
    "        \r\n",
    "        t = 0\r\n",
    "        for epoch in range(num_epochs):\r\n",
    "            \r\n",
    "            # Reset the metrics - https://www.tensorflow.org/alpha/guide/migration_guide#new-style_metrics\r\n",
    "            train_loss.reset_states()\r\n",
    "            train_accuracy.reset_states()\r\n",
    "            \r\n",
    "            for x_np, y_np in train_dset:\r\n",
    "                with tf.GradientTape() as tape:\r\n",
    "                    \r\n",
    "                    # Use the model function to build the forward pass.\r\n",
    "                    scores = model(x_np, training=is_training)\r\n",
    "                    loss = loss_fn(y_np, scores)\r\n",
    "      \r\n",
    "                    gradients = tape.gradient(loss, model.trainable_variables)\r\n",
    "                    optimizer.apply_gradients(zip(gradients, model.trainable_variables))\r\n",
    "                    \r\n",
    "                    # Update the metrics\r\n",
    "                    train_loss.update_state(loss)\r\n",
    "                    train_accuracy.update_state(y_np, scores)\r\n",
    "                    \r\n",
    "                    if t % print_every == 0:\r\n",
    "                        val_loss.reset_states()\r\n",
    "                        val_accuracy.reset_states()\r\n",
    "                        for test_x, test_y in val_dset:\r\n",
    "                            # During validation at end of epoch, training set to False\r\n",
    "                            prediction = model(test_x, training=False)\r\n",
    "                            t_loss = loss_fn(test_y, prediction)\r\n",
    "\r\n",
    "                            val_loss.update_state(t_loss)\r\n",
    "                            val_accuracy.update_state(test_y, prediction)\r\n",
    "                        \r\n",
    "                        template = 'Iteration {}, Epoch {}, Loss: {}, Accuracy: {}, Val Loss: {}, Val Accuracy: {}'\r\n",
    "                        print (template.format(t, epoch+1,\r\n",
    "                                             train_loss.result(),\r\n",
    "                                             train_accuracy.result()*100,\r\n",
    "                                             val_loss.result(),\r\n",
    "                                             val_accuracy.result()*100))\r\n",
    "                    t += 1"
   ],
   "outputs": [],
   "metadata": {
    "tags": [
     "pdf-ignore"
    ]
   }
  },
  {
   "cell_type": "markdown",
   "source": [
    "### Keras Model Subclassing API: Train a Two-Layer Network\n",
    "We can now use the tools defined above to train a two-layer network on CIFAR-10. We define the `model_init_fn` and `optimizer_init_fn` that construct the model and optimizer respectively when called. Here we want to train the model using stochastic gradient descent with no momentum, so we construct a `tf.keras.optimizers.SGD` function; you can [read about it here](https://www.tensorflow.org/versions/r2.0/api_docs/python/tf/optimizers/SGD).\n",
    "\n",
    "You don't need to tune any hyperparameters here, but you should achieve validation accuracies above 40% after one epoch of training."
   ],
   "metadata": {}
  },
  {
   "cell_type": "code",
   "execution_count": 21,
   "source": [
    "hidden_size, num_classes = 4000, 10\r\n",
    "learning_rate = 1e-2\r\n",
    "\r\n",
    "def model_init_fn():\r\n",
    "    return TwoLayerFC(hidden_size, num_classes)\r\n",
    "\r\n",
    "def optimizer_init_fn():\r\n",
    "    return tf.keras.optimizers.SGD(learning_rate=learning_rate)\r\n",
    "\r\n",
    "train_part34(model_init_fn, optimizer_init_fn)"
   ],
   "outputs": [
    {
     "output_type": "stream",
     "name": "stdout",
     "text": [
      "Iteration 0, Epoch 1, Loss: 3.0536351203918457, Accuracy: 12.5, Val Loss: 2.877821207046509, Val Accuracy: 12.700000762939453\n",
      "Iteration 100, Epoch 1, Loss: 2.235776424407959, Accuracy: 27.815595626831055, Val Loss: 1.8794938325881958, Val Accuracy: 38.70000076293945\n",
      "Iteration 200, Epoch 1, Loss: 2.077371120452881, Accuracy: 32.05068588256836, Val Loss: 1.819369912147522, Val Accuracy: 41.29999923706055\n",
      "Iteration 300, Epoch 1, Loss: 1.9963303804397583, Accuracy: 34.1881217956543, Val Loss: 1.8682994842529297, Val Accuracy: 38.20000076293945\n",
      "Iteration 400, Epoch 1, Loss: 1.925060749053955, Accuracy: 36.019325256347656, Val Loss: 1.7394278049468994, Val Accuracy: 42.20000076293945\n",
      "Iteration 500, Epoch 1, Loss: 1.8809622526168823, Accuracy: 37.14134216308594, Val Loss: 1.6683207750320435, Val Accuracy: 43.0\n",
      "Iteration 600, Epoch 1, Loss: 1.852347493171692, Accuracy: 38.06936264038086, Val Loss: 1.6861629486083984, Val Accuracy: 43.599998474121094\n",
      "Iteration 700, Epoch 1, Loss: 1.8257840871810913, Accuracy: 38.74375915527344, Val Loss: 1.6392070055007935, Val Accuracy: 44.10000228881836\n"
     ]
    }
   ],
   "metadata": {}
  },
  {
   "cell_type": "markdown",
   "source": [
    "### Keras Model Subclassing  API: Train a Three-Layer ConvNet\r\n",
    "Here you should use the tools we've defined above to train a three-layer ConvNet on CIFAR-10. Your ConvNet should use 32 filters in the first convolutional layer and 16 filters in the second layer.\r\n",
    "\r\n",
    "To train the model you should use gradient descent with Nesterov momentum 0.9.  \r\n",
    "\r\n",
    "**HINT**: https://www.tensorflow.org/versions/r2.0/api_docs/python/tf/optimizers/SGD\r\n",
    "\r\n",
    "You don't need to perform any hyperparameter tuning, but you should achieve validation accuracies above 50% after training for one epoch."
   ],
   "metadata": {}
  },
  {
   "cell_type": "code",
   "execution_count": 22,
   "source": [
    "learning_rate = 3e-3\r\n",
    "channel_1, channel_2, num_classes = 32, 16, 10\r\n",
    "\r\n",
    "def model_init_fn():\r\n",
    "    model = None\r\n",
    "    ############################################################################\r\n",
    "    # TODO: Complete the implementation of model_fn.                           #\r\n",
    "    ############################################################################\r\n",
    "    # *****START OF YOUR CODE (DO NOT DELETE/MODIFY THIS LINE)*****\r\n",
    "\r\n",
    "    model = ThreeLayerConvNet(channel_1,channel_2,num_classes)\r\n",
    "\r\n",
    "    # *****END OF YOUR CODE (DO NOT DELETE/MODIFY THIS LINE)*****\r\n",
    "    ############################################################################\r\n",
    "    #                           END OF YOUR CODE                               #\r\n",
    "    ############################################################################\r\n",
    "    return model\r\n",
    "\r\n",
    "def optimizer_init_fn():\r\n",
    "    optimizer = None\r\n",
    "    ############################################################################\r\n",
    "    # TODO: Complete the implementation of model_fn.                           #\r\n",
    "    ############################################################################\r\n",
    "    # *****START OF YOUR CODE (DO NOT DELETE/MODIFY THIS LINE)*****\r\n",
    "\r\n",
    "    optimizer = tf.keras.optimizers.SGD(learning_rate=learning_rate,momentum=0.9,nesterov=True)\r\n",
    "\r\n",
    "    # *****END OF YOUR CODE (DO NOT DELETE/MODIFY THIS LINE)*****\r\n",
    "    ############################################################################\r\n",
    "    #                           END OF YOUR CODE                               #\r\n",
    "    ############################################################################\r\n",
    "    return optimizer\r\n",
    "\r\n",
    "train_part34(model_init_fn, optimizer_init_fn)"
   ],
   "outputs": [
    {
     "output_type": "stream",
     "name": "stdout",
     "text": [
      "Iteration 0, Epoch 1, Loss: 2.7096261978149414, Accuracy: 12.5, Val Loss: 6.457492828369141, Val Accuracy: 7.800000190734863\n",
      "Iteration 100, Epoch 1, Loss: 2.1820061206817627, Accuracy: 26.516088485717773, Val Loss: 1.7688345909118652, Val Accuracy: 38.60000228881836\n",
      "Iteration 200, Epoch 1, Loss: 1.9251786470413208, Accuracy: 33.698692321777344, Val Loss: 1.5652774572372437, Val Accuracy: 44.5\n",
      "Iteration 300, Epoch 1, Loss: 1.8054969310760498, Accuracy: 37.17815399169922, Val Loss: 1.4919822216033936, Val Accuracy: 48.20000076293945\n",
      "Iteration 400, Epoch 1, Loss: 1.7149198055267334, Accuracy: 40.20417785644531, Val Loss: 1.3944931030273438, Val Accuracy: 49.70000076293945\n",
      "Iteration 500, Epoch 1, Loss: 1.6520382165908813, Accuracy: 42.10641098022461, Val Loss: 1.3849900960922241, Val Accuracy: 52.20000076293945\n",
      "Iteration 600, Epoch 1, Loss: 1.6097311973571777, Accuracy: 43.482215881347656, Val Loss: 1.3367090225219727, Val Accuracy: 51.400001525878906\n",
      "Iteration 700, Epoch 1, Loss: 1.574204683303833, Accuracy: 44.79315185546875, Val Loss: 1.3025288581848145, Val Accuracy: 55.29999542236328\n"
     ]
    }
   ],
   "metadata": {
    "id": "keras_model_accuracy"
   }
  },
  {
   "cell_type": "markdown",
   "source": [
    "# Part IV: Keras Sequential API\n",
    "In Part III we introduced the `tf.keras.Model` API, which allows you to define models with any number of learnable layers and with arbitrary connectivity between layers.\n",
    "\n",
    "However for many models you don't need such flexibility - a lot of models can be expressed as a sequential stack of layers, with the output of each layer fed to the next layer as input. If your model fits this pattern, then there is an even easier way to define your model: using `tf.keras.Sequential`. You don't need to write any custom classes; you simply call the `tf.keras.Sequential` constructor with a list containing a sequence of layer objects.\n",
    "\n",
    "One complication with `tf.keras.Sequential` is that you must define the shape of the input to the model by passing a value to the `input_shape` of the first layer in your model.\n",
    "\n",
    "### Keras Sequential API: Two-Layer Network\n",
    "In this subsection, we will rewrite the two-layer fully-connected network using `tf.keras.Sequential`, and train it using the training loop defined above.\n",
    "\n",
    "You don't need to perform any hyperparameter tuning here, but you should see validation accuracies above 40% after training for one epoch."
   ],
   "metadata": {}
  },
  {
   "cell_type": "code",
   "execution_count": 23,
   "source": [
    "learning_rate = 1e-2\r\n",
    "\r\n",
    "def model_init_fn():\r\n",
    "    input_shape = (32, 32, 3)\r\n",
    "    hidden_layer_size, num_classes = 4000, 10\r\n",
    "    initializer = tf.initializers.VarianceScaling(scale=2.0)\r\n",
    "    layers = [\r\n",
    "        tf.keras.layers.Flatten(input_shape=input_shape),\r\n",
    "        tf.keras.layers.Dense(hidden_layer_size, activation='relu',\r\n",
    "                              kernel_initializer=initializer),\r\n",
    "        tf.keras.layers.Dense(num_classes, activation='softmax', \r\n",
    "                              kernel_initializer=initializer),\r\n",
    "    ]\r\n",
    "    model = tf.keras.Sequential(layers)\r\n",
    "    return model\r\n",
    "\r\n",
    "def optimizer_init_fn():\r\n",
    "    return tf.keras.optimizers.SGD(learning_rate=learning_rate) \r\n",
    "\r\n",
    "train_part34(model_init_fn, optimizer_init_fn)"
   ],
   "outputs": [
    {
     "output_type": "stream",
     "name": "stdout",
     "text": [
      "Iteration 0, Epoch 1, Loss: 3.01785945892334, Accuracy: 10.9375, Val Loss: 3.069293260574341, Val Accuracy: 11.699999809265137\n",
      "Iteration 100, Epoch 1, Loss: 2.2334413528442383, Accuracy: 28.372526168823242, Val Loss: 1.869824767112732, Val Accuracy: 39.39999771118164\n",
      "Iteration 200, Epoch 1, Loss: 2.0703303813934326, Accuracy: 32.299442291259766, Val Loss: 1.8336862325668335, Val Accuracy: 40.099998474121094\n",
      "Iteration 300, Epoch 1, Loss: 1.9976667165756226, Accuracy: 34.06353759765625, Val Loss: 1.8617987632751465, Val Accuracy: 37.900001525878906\n",
      "Iteration 400, Epoch 1, Loss: 1.9299877882003784, Accuracy: 35.824501037597656, Val Loss: 1.7123007774353027, Val Accuracy: 42.599998474121094\n",
      "Iteration 500, Epoch 1, Loss: 1.8844400644302368, Accuracy: 36.960453033447266, Val Loss: 1.661851167678833, Val Accuracy: 43.099998474121094\n",
      "Iteration 600, Epoch 1, Loss: 1.8545247316360474, Accuracy: 37.88737487792969, Val Loss: 1.691719889640808, Val Accuracy: 43.599998474121094\n",
      "Iteration 700, Epoch 1, Loss: 1.8290281295776367, Accuracy: 38.52977752685547, Val Loss: 1.6504113674163818, Val Accuracy: 43.099998474121094\n"
     ]
    }
   ],
   "metadata": {
    "id": "keras_model_accuracy"
   }
  },
  {
   "cell_type": "markdown",
   "source": [
    "### Abstracting Away the Training Loop\n",
    "In the previous examples, we used a customised training loop to train models (e.g. `train_part34`). Writing your own training loop is only required if you need more flexibility and control during training your model. Alternately, you can also use  built-in APIs like `tf.keras.Model.fit()` and `tf.keras.Model.evaluate` to train and evaluate a model. Also remember to configure your model for training by calling `tf.keras.Model.compile.\n",
    "\n",
    "You don't need to perform any hyperparameter tuning here, but you should see validation and test accuracies above 42% after training for one epoch."
   ],
   "metadata": {}
  },
  {
   "cell_type": "code",
   "execution_count": 24,
   "source": [
    "model = model_init_fn()\r\n",
    "model.compile(optimizer=tf.keras.optimizers.SGD(learning_rate=learning_rate),\r\n",
    "              loss='sparse_categorical_crossentropy',\r\n",
    "              metrics=[tf.keras.metrics.sparse_categorical_accuracy])\r\n",
    "model.fit(X_train, y_train, batch_size=64, epochs=1, validation_data=(X_val, y_val))\r\n",
    "model.evaluate(X_test, y_test)"
   ],
   "outputs": [
    {
     "output_type": "stream",
     "name": "stdout",
     "text": [
      "766/766 [==============================] - 14s 17ms/step - loss: 2.0175 - sparse_categorical_accuracy: 0.3359 - val_loss: 1.6562 - val_sparse_categorical_accuracy: 0.4350\n",
      "313/313 [==============================] - 4s 13ms/step - loss: 1.6503 - sparse_categorical_accuracy: 0.4299\n"
     ]
    },
    {
     "output_type": "execute_result",
     "data": {
      "text/plain": [
       "[1.6503400802612305, 0.42989999055862427]"
      ]
     },
     "metadata": {},
     "execution_count": 24
    }
   ],
   "metadata": {}
  },
  {
   "cell_type": "markdown",
   "source": [
    "### Keras Sequential API: Three-Layer ConvNet\n",
    "Here you should use `tf.keras.Sequential` to reimplement the same three-layer ConvNet architecture used in Part II and Part III. As a reminder, your model should have the following architecture:\n",
    "\n",
    "1. Convolutional layer with 32 5x5 kernels, using zero padding of 2\n",
    "2. ReLU nonlinearity\n",
    "3. Convolutional layer with 16 3x3 kernels, using zero padding of 1\n",
    "4. ReLU nonlinearity\n",
    "5. Fully-connected layer giving class scores\n",
    "6. Softmax nonlinearity\n",
    "\n",
    "You should initialize the weights of the model using a `tf.initializers.VarianceScaling` as above.\n",
    "\n",
    "You should train the model using Nesterov momentum 0.9.\n",
    "\n",
    "You don't need to perform any hyperparameter search, but you should achieve accuracy above 45% after training for one epoch."
   ],
   "metadata": {}
  },
  {
   "cell_type": "code",
   "execution_count": 25,
   "source": [
    "def model_init_fn():\r\n",
    "    model = None\r\n",
    "    ############################################################################\r\n",
    "    # TODO: Construct a three-layer ConvNet using tf.keras.Sequential.         #\r\n",
    "    ############################################################################\r\n",
    "    # *****START OF YOUR CODE (DO NOT DELETE/MODIFY THIS LINE)*****\r\n",
    "\r\n",
    "    input_shape = (32,32,3)\r\n",
    "    initializer = tf.initializers.VarianceScaling(scale=2.0)\r\n",
    "    layers = [\r\n",
    "        tf.keras.layers.ZeroPadding2D(padding=(2,2),input_shape = input_shape),\r\n",
    "        tf.keras.layers.Conv2D(32,5,activation='relu',kernel_initializer=initializer),\r\n",
    "        tf.keras.layers.ZeroPadding2D(padding=(1,1)),\r\n",
    "        tf.keras.layers.Conv2D(16,3,activation='relu',kernel_initializer=initializer),\r\n",
    "        tf.keras.layers.Flatten(),\r\n",
    "        tf.keras.layers.Dense(num_classes, activation='softmax', kernel_initializer=initializer),\r\n",
    "    ]\r\n",
    "    model = tf.keras.Sequential(layers)\r\n",
    "\r\n",
    "    # *****END OF YOUR CODE (DO NOT DELETE/MODIFY THIS LINE)*****\r\n",
    "    ############################################################################\r\n",
    "    #                            END OF YOUR CODE                              #\r\n",
    "    ############################################################################\r\n",
    "    return model\r\n",
    "\r\n",
    "learning_rate = 5e-4\r\n",
    "def optimizer_init_fn():\r\n",
    "    optimizer = None\r\n",
    "    ############################################################################\r\n",
    "    # TODO: Complete the implementation of model_fn.                           #\r\n",
    "    ############################################################################\r\n",
    "    # *****START OF YOUR CODE (DO NOT DELETE/MODIFY THIS LINE)*****\r\n",
    "\r\n",
    "    optimizer = tf.keras.optimizers.SGD(learning_rate=learning_rate,momentum=0.9,nesterov=True)\r\n",
    "\r\n",
    "    # *****END OF YOUR CODE (DO NOT DELETE/MODIFY THIS LINE)*****\r\n",
    "    ############################################################################\r\n",
    "    #                           END OF YOUR CODE                               #\r\n",
    "    ############################################################################\r\n",
    "    return optimizer\r\n",
    "\r\n",
    "train_part34(model_init_fn, optimizer_init_fn)"
   ],
   "outputs": [
    {
     "output_type": "stream",
     "name": "stdout",
     "text": [
      "Iteration 0, Epoch 1, Loss: 3.154578685760498, Accuracy: 7.8125, Val Loss: 2.9649648666381836, Val Accuracy: 9.09999942779541\n",
      "Iteration 100, Epoch 1, Loss: 1.994389295578003, Accuracy: 30.368194580078125, Val Loss: 1.7794363498687744, Val Accuracy: 39.20000076293945\n",
      "Iteration 200, Epoch 1, Loss: 1.8624956607818604, Accuracy: 34.825870513916016, Val Loss: 1.6560152769088745, Val Accuracy: 43.39999771118164\n",
      "Iteration 300, Epoch 1, Loss: 1.7922420501708984, Accuracy: 37.01204299926758, Val Loss: 1.5984532833099365, Val Accuracy: 46.29999923706055\n",
      "Iteration 400, Epoch 1, Loss: 1.728711485862732, Accuracy: 39.29629135131836, Val Loss: 1.5391860008239746, Val Accuracy: 47.0\n",
      "Iteration 500, Epoch 1, Loss: 1.682893991470337, Accuracy: 40.74663162231445, Val Loss: 1.4937632083892822, Val Accuracy: 48.20000076293945\n",
      "Iteration 600, Epoch 1, Loss: 1.653898000717163, Accuracy: 41.71952819824219, Val Loss: 1.4629558324813843, Val Accuracy: 49.79999923706055\n",
      "Iteration 700, Epoch 1, Loss: 1.6279960870742798, Accuracy: 42.6176872253418, Val Loss: 1.4426543712615967, Val Accuracy: 50.5\n"
     ]
    }
   ],
   "metadata": {
    "id": "keras_sequential_accuracy"
   }
  },
  {
   "cell_type": "markdown",
   "source": [
    "We will also train this model with the built-in training loop APIs provided by TensorFlow."
   ],
   "metadata": {}
  },
  {
   "cell_type": "code",
   "execution_count": 26,
   "source": [
    "model = model_init_fn()\r\n",
    "model.compile(optimizer='sgd',\r\n",
    "              loss='sparse_categorical_crossentropy',\r\n",
    "              metrics=[tf.keras.metrics.sparse_categorical_accuracy])\r\n",
    "model.fit(X_train, y_train, batch_size=64, epochs=1, validation_data=(X_val, y_val))\r\n",
    "model.evaluate(X_test, y_test)"
   ],
   "outputs": [
    {
     "output_type": "stream",
     "name": "stdout",
     "text": [
      "766/766 [==============================] - 15s 19ms/step - loss: 1.7810 - sparse_categorical_accuracy: 0.3803 - val_loss: 1.3978 - val_sparse_categorical_accuracy: 0.5030\n",
      "313/313 [==============================] - 3s 9ms/step - loss: 1.4077 - sparse_categorical_accuracy: 0.4943\n"
     ]
    },
    {
     "output_type": "execute_result",
     "data": {
      "text/plain": [
       "[1.4077131748199463, 0.4943000078201294]"
      ]
     },
     "metadata": {},
     "execution_count": 26
    }
   ],
   "metadata": {}
  },
  {
   "cell_type": "markdown",
   "source": [
    "##  Part IV: Functional API\n",
    "### Demonstration with a Two-Layer Network \n",
    "\n",
    "In the previous section, we saw how we can use `tf.keras.Sequential` to stack layers to quickly build simple models. But this comes at the cost of losing flexibility.\n",
    "\n",
    "Often we will have to write complex models that have non-sequential data flows: a layer can have **multiple inputs and/or outputs**, such as stacking the output of 2 previous layers together to feed as input to a third! (Some examples are residual connections and dense blocks.)\n",
    "\n",
    "In such cases, we can use Keras functional API to write models with complex topologies such as:\n",
    "\n",
    " 1. Multi-input models\n",
    " 2. Multi-output models\n",
    " 3. Models with shared layers (the same layer called several times)\n",
    " 4. Models with non-sequential data flows (e.g. residual connections)\n",
    "\n",
    "Writing a model with Functional API requires us to create a `tf.keras.Model` instance and explicitly write input tensors and output tensors for this model. "
   ],
   "metadata": {}
  },
  {
   "cell_type": "code",
   "execution_count": 27,
   "source": [
    "def two_layer_fc_functional(input_shape, hidden_size, num_classes):  \r\n",
    "    initializer = tf.initializers.VarianceScaling(scale=2.0)\r\n",
    "    inputs = tf.keras.Input(shape=input_shape)\r\n",
    "    flattened_inputs = tf.keras.layers.Flatten()(inputs)\r\n",
    "    fc1_output = tf.keras.layers.Dense(hidden_size, activation='relu',\r\n",
    "                                 kernel_initializer=initializer)(flattened_inputs)\r\n",
    "    scores = tf.keras.layers.Dense(num_classes, activation='softmax',\r\n",
    "                             kernel_initializer=initializer)(fc1_output)\r\n",
    "\r\n",
    "    # Instantiate the model given inputs and outputs.\r\n",
    "    model = tf.keras.Model(inputs=inputs, outputs=scores)\r\n",
    "    return model\r\n",
    "\r\n",
    "def test_two_layer_fc_functional():\r\n",
    "    \"\"\" A small unit test to exercise the TwoLayerFC model above. \"\"\"\r\n",
    "    input_size, hidden_size, num_classes = 50, 42, 10\r\n",
    "    input_shape = (50,)\r\n",
    "    \r\n",
    "    x = tf.zeros((64, input_size))\r\n",
    "    model = two_layer_fc_functional(input_shape, hidden_size, num_classes)\r\n",
    "    \r\n",
    "    with tf.device(device):\r\n",
    "        scores = model(x)\r\n",
    "        print(scores.shape)\r\n",
    "        \r\n",
    "test_two_layer_fc_functional()"
   ],
   "outputs": [
    {
     "output_type": "stream",
     "name": "stdout",
     "text": [
      "(64, 10)\n"
     ]
    }
   ],
   "metadata": {
    "tags": [
     "pdf-ignore"
    ]
   }
  },
  {
   "cell_type": "markdown",
   "source": [
    "### Keras Functional API: Train a Two-Layer Network\n",
    "You can now train this two-layer network constructed using the functional API.\n",
    "\n",
    "You don't need to perform any hyperparameter tuning here, but you should see validation accuracies above 40% after training for one epoch."
   ],
   "metadata": {}
  },
  {
   "cell_type": "code",
   "execution_count": 28,
   "source": [
    "input_shape = (32, 32, 3)\r\n",
    "hidden_size, num_classes = 4000, 10\r\n",
    "learning_rate = 1e-2\r\n",
    "\r\n",
    "def model_init_fn():\r\n",
    "    return two_layer_fc_functional(input_shape, hidden_size, num_classes)\r\n",
    "\r\n",
    "def optimizer_init_fn():\r\n",
    "    return tf.keras.optimizers.SGD(learning_rate=learning_rate)\r\n",
    "\r\n",
    "train_part34(model_init_fn, optimizer_init_fn)"
   ],
   "outputs": [
    {
     "output_type": "stream",
     "name": "stdout",
     "text": [
      "Iteration 0, Epoch 1, Loss: 3.1409904956817627, Accuracy: 6.25, Val Loss: 2.890998363494873, Val Accuracy: 12.399999618530273\n",
      "Iteration 100, Epoch 1, Loss: 2.227346658706665, Accuracy: 29.470914840698242, Val Loss: 1.8756979703903198, Val Accuracy: 39.79999923706055\n",
      "Iteration 200, Epoch 1, Loss: 2.074282646179199, Accuracy: 32.86691665649414, Val Loss: 1.851815938949585, Val Accuracy: 39.20000076293945\n",
      "Iteration 300, Epoch 1, Loss: 1.9957654476165771, Accuracy: 34.77989959716797, Val Loss: 1.8678873777389526, Val Accuracy: 38.5\n",
      "Iteration 400, Epoch 1, Loss: 1.9260176420211792, Accuracy: 36.50249099731445, Val Loss: 1.7479084730148315, Val Accuracy: 40.0\n",
      "Iteration 500, Epoch 1, Loss: 1.8825113773345947, Accuracy: 37.406436920166016, Val Loss: 1.6487048864364624, Val Accuracy: 44.70000076293945\n",
      "Iteration 600, Epoch 1, Loss: 1.8525127172470093, Accuracy: 38.233150482177734, Val Loss: 1.677693247795105, Val Accuracy: 43.29999923706055\n",
      "Iteration 700, Epoch 1, Loss: 1.827219843864441, Accuracy: 38.86189270019531, Val Loss: 1.6240953207015991, Val Accuracy: 45.5\n"
     ]
    }
   ],
   "metadata": {}
  },
  {
   "cell_type": "markdown",
   "source": [
    "# Part V: CIFAR-10 open-ended challenge\n",
    "\n",
    "In this section you can experiment with whatever ConvNet architecture you'd like on CIFAR-10.\n",
    "\n",
    "You should experiment with architectures, hyperparameters, loss functions, regularization, or anything else you can think of to train a model that achieves **at least 70%** accuracy on the **validation** set within 10 epochs. You can use the built-in train function, the `train_part34` function from above, or implement your own training loop.\n",
    "\n",
    "Describe what you did at the end of the notebook.\n",
    "\n",
    "### Some things you can try:\n",
    "- **Filter size**: Above we used 5x5 and 3x3; is this optimal?\n",
    "- **Number of filters**: Above we used 16 and 32 filters. Would more or fewer do better?\n",
    "- **Pooling**: We didn't use any pooling above. Would this improve the model?\n",
    "- **Normalization**: Would your model be improved with batch normalization, layer normalization, group normalization, or some other normalization strategy?\n",
    "- **Network architecture**: The ConvNet above has only three layers of trainable parameters. Would a deeper model do better?\n",
    "- **Global average pooling**: Instead of flattening after the final convolutional layer, would global average pooling do better? This strategy is used for example in Google's Inception network and in Residual Networks.\n",
    "- **Regularization**: Would some kind of regularization improve performance? Maybe weight decay or dropout?\n",
    "\n",
    "### NOTE: Batch Normalization / Dropout\n",
    "If you are using Batch Normalization and Dropout, remember to pass `is_training=True` if you use the `train_part34()` function. BatchNorm and Dropout layers have different behaviors at training and inference time. `training` is a specific keyword argument reserved for this purpose in any `tf.keras.Model`'s `call()` function. Read more about this here : https://www.tensorflow.org/versions/r2.0/api_docs/python/tf/keras/layers/BatchNormalization#methods\n",
    "https://www.tensorflow.org/versions/r2.0/api_docs/python/tf/keras/layers/Dropout#methods\n",
    "\n",
    "### Tips for training\n",
    "For each network architecture that you try, you should tune the learning rate and other hyperparameters. When doing this there are a couple important things to keep in mind: \n",
    "\n",
    "- If the parameters are working well, you should see improvement within a few hundred iterations\n",
    "- Remember the coarse-to-fine approach for hyperparameter tuning: start by testing a large range of hyperparameters for just a few training iterations to find the combinations of parameters that are working at all.\n",
    "- Once you have found some sets of parameters that seem to work, search more finely around these parameters. You may need to train for more epochs.\n",
    "- You should use the validation set for hyperparameter search, and save your test set for evaluating your architecture on the best parameters as selected by the validation set.\n",
    "\n",
    "### Going above and beyond\n",
    "If you are feeling adventurous there are many other features you can implement to try and improve your performance. You are **not required** to implement any of these, but don't miss the fun if you have time!\n",
    "\n",
    "- Alternative optimizers: you can try Adam, Adagrad, RMSprop, etc.\n",
    "- Alternative activation functions such as leaky ReLU, parametric ReLU, ELU, or MaxOut.\n",
    "- Model ensembles\n",
    "- Data augmentation\n",
    "- New Architectures\n",
    "  - [ResNets](https://arxiv.org/abs/1512.03385) where the input from the previous layer is added to the output.\n",
    "  - [DenseNets](https://arxiv.org/abs/1608.06993) where inputs into previous layers are concatenated together.\n",
    "  - [This blog has an in-depth overview](https://chatbotslife.com/resnets-highwaynets-and-densenets-oh-my-9bb15918ee32)\n",
    "  \n",
    "### Have fun and happy training! "
   ],
   "metadata": {}
  },
  {
   "cell_type": "code",
   "execution_count": 54,
   "source": [
    "class CustomConvNet(tf.keras.Model):\r\n",
    "    def __init__(self):\r\n",
    "        super(CustomConvNet, self).__init__()\r\n",
    "        ############################################################################\r\n",
    "        # TODO: Construct a model that performs well on CIFAR-10                   #\r\n",
    "        ############################################################################\r\n",
    "        # *****START OF YOUR CODE (DO NOT DELETE/MODIFY THIS LINE)*****\r\n",
    "\r\n",
    "        self.conv1 = tf.keras.models.Sequential(\r\n",
    "            [\r\n",
    "                tf.keras.layers.Conv2D(32,3,padding='same'),\r\n",
    "                tf.keras.layers.BatchNormalization(),\r\n",
    "                tf.keras.layers.LeakyReLU(),\r\n",
    "            ]\r\n",
    "        )\r\n",
    "        self.conv2 = tf.keras.models.Sequential(\r\n",
    "            [\r\n",
    "                tf.keras.layers.Conv2D(64,3,strides=2,padding='same'),\r\n",
    "                tf.keras.layers.BatchNormalization(),\r\n",
    "                tf.keras.layers.LeakyReLU(),\r\n",
    "            ]\r\n",
    "        )\r\n",
    "        self.conv3 = tf.keras.models.Sequential(\r\n",
    "            [\r\n",
    "                tf.keras.layers.Conv2D(64,3,padding='same'),\r\n",
    "                tf.keras.layers.BatchNormalization(),\r\n",
    "                tf.keras.layers.LeakyReLU(),\r\n",
    "            ]\r\n",
    "        )\r\n",
    "        self.conv4 = tf.keras.models.Sequential(\r\n",
    "            [\r\n",
    "                tf.keras.layers.Conv2D(128,3,strides=2,padding='same'),\r\n",
    "                tf.keras.layers.BatchNormalization(),\r\n",
    "                tf.keras.layers.LeakyReLU(),\r\n",
    "            ]\r\n",
    "        )\r\n",
    "        self.conv5 = tf.keras.models.Sequential(\r\n",
    "            [\r\n",
    "                tf.keras.layers.Conv2D(256,3,padding='same'),\r\n",
    "                tf.keras.layers.BatchNormalization(),\r\n",
    "                tf.keras.layers.LeakyReLU(),\r\n",
    "            ]\r\n",
    "        )\r\n",
    "        self.conv6 = tf.keras.models.Sequential(\r\n",
    "            [\r\n",
    "                tf.keras.layers.Conv2D(512,3,strides=2,padding='same'),\r\n",
    "                tf.keras.layers.BatchNormalization(),\r\n",
    "                tf.keras.layers.LeakyReLU(),\r\n",
    "            ]\r\n",
    "        )\r\n",
    "        self.conv7 = tf.keras.models.Sequential(\r\n",
    "            [\r\n",
    "                tf.keras.layers.Conv2D(10,3,padding='same'),\r\n",
    "                tf.keras.layers.BatchNormalization(),\r\n",
    "                tf.keras.layers.LeakyReLU(),\r\n",
    "            ]\r\n",
    "        )\r\n",
    "        self.gap = tf.keras.layers.GlobalAveragePooling2D()\r\n",
    "        self.softmax = tf.keras.layers.Softmax()\r\n",
    "\r\n",
    "        # *****END OF YOUR CODE (DO NOT DELETE/MODIFY THIS LINE)*****\r\n",
    "        ############################################################################\r\n",
    "        #                            END OF YOUR CODE                              #\r\n",
    "        ############################################################################\r\n",
    "    \r\n",
    "    def call(self, input_tensor, training=False):\r\n",
    "        ############################################################################\r\n",
    "        # TODO: Construct a model that performs well on CIFAR-10                   #\r\n",
    "        ############################################################################\r\n",
    "        # *****START OF YOUR CODE (DO NOT DELETE/MODIFY THIS LINE)*****\r\n",
    "\r\n",
    "        x = self.conv1(input_tensor)\r\n",
    "        x = self.conv2(x)\r\n",
    "        x = self.conv3(x)\r\n",
    "        x = self.conv4(x)\r\n",
    "        x = self.conv5(x)\r\n",
    "        x = self.conv6(x)\r\n",
    "        x = self.conv7(x)\r\n",
    "        x = self.gap(x)\r\n",
    "        x = self.softmax(x)\r\n",
    "\r\n",
    "        # *****END OF YOUR CODE (DO NOT DELETE/MODIFY THIS LINE)*****\r\n",
    "        ############################################################################\r\n",
    "        #                            END OF YOUR CODE                              #\r\n",
    "        ############################################################################\r\n",
    "        return x\r\n",
    "\r\n",
    "\r\n",
    "print_every = 700\r\n",
    "num_epochs = 10\r\n",
    "\r\n",
    "model = CustomConvNet()\r\n",
    "\r\n",
    "def model_init_fn():\r\n",
    "    return CustomConvNet()\r\n",
    "\r\n",
    "def optimizer_init_fn():\r\n",
    "    learning_rate = 1e-3\r\n",
    "    return tf.keras.optimizers.Adam(learning_rate) \r\n",
    "\r\n",
    "train_part34(model_init_fn, optimizer_init_fn, num_epochs=num_epochs, is_training=True)"
   ],
   "outputs": [
    {
     "output_type": "stream",
     "name": "stdout",
     "text": [
      "Iteration 0, Epoch 1, Loss: 4.053658485412598, Accuracy: 12.5, Val Loss: 3.660630702972412, Val Accuracy: 11.100000381469727\n",
      "Iteration 700, Epoch 1, Loss: 2.7025034427642822, Accuracy: 23.504369735717773, Val Loss: 2.1932687759399414, Val Accuracy: 26.399999618530273\n",
      "Iteration 1400, Epoch 2, Loss: 2.4234187602996826, Accuracy: 24.148622512817383, Val Loss: 2.1835293769836426, Val Accuracy: 28.400001525878906\n"
     ]
    }
   ],
   "metadata": {
    "id": "open_ended_accuracy"
   }
  },
  {
   "cell_type": "markdown",
   "source": [
    "## Describe what you did \n",
    "\n",
    "In the cell below you should write an explanation of what you did, any additional features that you implemented, and/or any graphs that you made in the process of training and evaluating your network."
   ],
   "metadata": {
    "tags": [
     "pdf-inline"
    ]
   }
  },
  {
   "cell_type": "markdown",
   "source": [
    "**Answer:**\n",
    "\n"
   ],
   "metadata": {
    "tags": [
     "pdf-inline"
    ]
   }
  }
 ],
 "metadata": {
  "language_info": {
   "name": "python",
   "version": "3.8.0",
   "mimetype": "text/x-python",
   "codemirror_mode": {
    "name": "ipython",
    "version": 3
   },
   "pygments_lexer": "ipython3",
   "nbconvert_exporter": "python",
   "file_extension": ".py"
  },
  "kernelspec": {
   "name": "python3",
   "display_name": "Python 3.8.0 64-bit ('tianchi': conda)"
  },
  "interpreter": {
   "hash": "5e273a947b46fe41874e6ca50eb3e62528ee968a88162762c0c9787188875f6e"
  }
 },
 "nbformat": 4,
 "nbformat_minor": 4
}